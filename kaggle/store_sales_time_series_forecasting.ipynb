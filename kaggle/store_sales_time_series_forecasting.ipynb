{
 "cells": [
  {
   "cell_type": "code",
   "execution_count": 1,
   "id": "e98c1c64",
   "metadata": {},
   "outputs": [],
   "source": [
    "# Imports\n",
    "import os\n",
    "from kaggle.api.kaggle_api_extended import KaggleApi\n",
    "import zipfile\n",
    "from pathlib import Path\n",
    "import matplotlib.pyplot as plt\n",
    "import numpy as np\n",
    "import pandas as pd"
   ]
  },
  {
   "cell_type": "code",
   "execution_count": 2,
   "id": "60b277db",
   "metadata": {},
   "outputs": [],
   "source": [
    "api = KaggleApi()\n",
    "api.authenticate()\n",
    "\n",
    "competition_name = 'store-sales-time-series-forecasting'\n",
    "output_dir = Path('datasets') / competition_name\n",
    "zip_path = f'{competition_name}.zip'\n",
    "\n",
    "if not os.path.exists(output_dir):\n",
    "    # Download from kaggle\n",
    "    print('Downloading dataset...')\n",
    "    os.makedirs(output_dir, exist_ok=True)\n",
    "    api = KaggleApi()\n",
    "    api.authenticate()\n",
    "    api.competition_download_files(competition=competition_name)\n",
    "\n",
    "    # Extract datasets\n",
    "    with zipfile.ZipFile(zip_path, 'r') as zip_ref:\n",
    "        zip_ref.extractall(output_dir)"
   ]
  },
  {
   "cell_type": "code",
   "execution_count": 3,
   "id": "12bd4bbf",
   "metadata": {},
   "outputs": [
    {
     "name": "stdout",
     "output_type": "stream",
     "text": [
      "datasets/store-sales-time-series-forecasting/sample_submission.csv\n",
      "datasets/store-sales-time-series-forecasting/stores.csv\n",
      "datasets/store-sales-time-series-forecasting/train.csv\n",
      "datasets/store-sales-time-series-forecasting/transactions.csv\n",
      "datasets/store-sales-time-series-forecasting/test.csv\n",
      "datasets/store-sales-time-series-forecasting/oil.csv\n",
      "datasets/store-sales-time-series-forecasting/holidays_events.csv\n"
     ]
    }
   ],
   "source": [
    "for dirname, _, filenames in os.walk(output_dir):\n",
    "    for filename in filenames:\n",
    "        print(os.path.join(dirname, filename))"
   ]
  },
  {
   "cell_type": "code",
   "execution_count": 4,
   "id": "610e35f6",
   "metadata": {},
   "outputs": [],
   "source": [
    "# Load the Data\n",
    "train = pd.read_csv(output_dir / 'train.csv', parse_dates=['date'])\n",
    "test = pd.read_csv(output_dir / 'test.csv', parse_dates=['date'])"
   ]
  },
  {
   "cell_type": "code",
   "execution_count": 5,
   "id": "e2bef0f0",
   "metadata": {},
   "outputs": [],
   "source": [
    "# Feature Engineering Functions\n",
    "def create_date_features(df: pd.DataFrame):\n",
    "    df['day'] = df['date'].dt.day\n",
    "    df['weekofyear'] = df['date'].dt.isocalendar().week.astype('int')\n",
    "    df['month'] = df['date'].dt.month\n",
    "    df['year'] = df['date'].dt.year\n",
    "    df['dayofweek'] = df['date'].dt.dayofweek\n",
    "    df['is_weekend'] = (df['dayofweek'] >= 5).astype(int)\n",
    "    df['is_month_start'] = df['date'].dt.is_month_start.astype(int)\n",
    "    df['is_month_end'] = df['date'].dt.is_month_end.astype(int)\n",
    "    return df\n",
    "\n",
    "def create_lag_features(df: pd.DataFrame, lags=[1, 7, 14, 28]):\n",
    "    for lag in lags:\n",
    "        df[f'sales_lag_{lag}'] = df.groupby(['store_nbr', 'family'])['sales'].shift(lag)\n",
    "    return df\n",
    "\n",
    "def create_rolling_features(df: pd.DataFrame, windows=[7, 14, 28]):\n",
    "    for window in windows:\n",
    "        df[f'sales_roll_mean_{window}'] = df.groupby(['store_nbr', 'family'])['sales'].shift(1).rolling(window=window).mean()\n",
    "    return df"
   ]
  },
  {
   "cell_type": "code",
   "execution_count": 6,
   "id": "f02e1aa9",
   "metadata": {},
   "outputs": [],
   "source": [
    "from sklearn.preprocessing import LabelEncoder\n",
    "\n",
    "# Label Encoding\n",
    "le = LabelEncoder()\n",
    "train['family'] = le.fit_transform(train['family'])\n",
    "test['family'] = le.transform(test['family'])"
   ]
  },
  {
   "cell_type": "code",
   "execution_count": 7,
   "id": "a3c22f76",
   "metadata": {},
   "outputs": [],
   "source": [
    "# Merge train and test for feature engineering\n",
    "test['sales'] = np.nan  # dummy sales column\n",
    "all_data = pd.concat([train, test], axis=0).sort_values(['store_nbr', 'family', 'date'])"
   ]
  },
  {
   "cell_type": "code",
   "execution_count": 8,
   "id": "066ae9f3",
   "metadata": {},
   "outputs": [],
   "source": [
    "# Feature Engineering\n",
    "all_data = create_date_features(all_data)\n",
    "all_data = create_lag_features(all_data)\n",
    "all_data = create_rolling_features(all_data)"
   ]
  },
  {
   "cell_type": "code",
   "execution_count": 9,
   "id": "5436611e",
   "metadata": {},
   "outputs": [],
   "source": [
    "# Split back\n",
    "train = all_data[~all_data['sales'].isna()]\n",
    "test = all_data[all_data['sales'].isna()]"
   ]
  },
  {
   "cell_type": "code",
   "execution_count": 10,
   "id": "3887707c",
   "metadata": {},
   "outputs": [],
   "source": [
    "# Fill missing\n",
    "train = train.fillna(-1)\n",
    "test = test.fillna(-1)"
   ]
  },
  {
   "cell_type": "code",
   "execution_count": 11,
   "id": "59fb8845",
   "metadata": {},
   "outputs": [],
   "source": [
    "# Prepare Features and Target\n",
    "features = [\n",
    "    'store_nbr', 'family', 'onpromotion', 'day', 'weekofyear', 'month', 'year', 'dayofweek',\n",
    "    'is_weekend', 'is_month_start', 'is_month_end',\n",
    "    'sales_lag_1', 'sales_lag_7', 'sales_lag_14', 'sales_lag_28',\n",
    "    'sales_roll_mean_7', 'sales_roll_mean_14', 'sales_roll_mean_28'\n",
    "]\n",
    "\n",
    "target = 'sales'"
   ]
  },
  {
   "cell_type": "code",
   "execution_count": 12,
   "id": "fa670379",
   "metadata": {},
   "outputs": [],
   "source": [
    "# Train-Validation Split\n",
    "X_train = train[train['date'] < '2017-07-01'][features]\n",
    "y_train = train[train['date'] < '2017-07-01'][target]\n",
    "X_valid = train[train['date'] >= '2017-07-01'][features]\n",
    "y_valid = train[train['date'] >= '2017-07-01'][target]"
   ]
  },
  {
   "cell_type": "code",
   "execution_count": 13,
   "id": "ff58e10e",
   "metadata": {},
   "outputs": [],
   "source": [
    "# Important Trick: Log Transform Target\n",
    "y_train_log = np.log1p(y_train)\n",
    "y_valid_log = np.log1p(y_valid)"
   ]
  },
  {
   "cell_type": "code",
   "execution_count": 14,
   "id": "0f7ecc27",
   "metadata": {},
   "outputs": [],
   "source": [
    "# LightGBM Dataset\n",
    "import lightgbm as lgb\n",
    "\n",
    "train_data = lgb.Dataset(X_train, label=y_train_log, categorical_feature=['family'])\n",
    "valid_data = lgb.Dataset(X_valid, label=y_valid_log, categorical_feature=['family'])"
   ]
  },
  {
   "cell_type": "code",
   "execution_count": 15,
   "id": "0273a570",
   "metadata": {},
   "outputs": [],
   "source": [
    "# LightGBM Parameters\n",
    "params = {\n",
    "    'objective': 'regression',\n",
    "    'metric': 'rmse',\n",
    "    'boosting_type': 'gbdt',\n",
    "    'learning_rate': 0.02,\n",
    "    'num_leaves': 256,\n",
    "    'max_depth': 8,\n",
    "    'feature_fraction': 0.8,\n",
    "    'bagging_fraction': 0.8,\n",
    "    'bagging_freq': 5,\n",
    "    'lambda_l1': 5,\n",
    "    'lambda_l2': 1,\n",
    "    'verbose': -1,\n",
    "}"
   ]
  },
  {
   "cell_type": "code",
   "execution_count": 16,
   "id": "8c50653c",
   "metadata": {},
   "outputs": [
    {
     "name": "stdout",
     "output_type": "stream",
     "text": [
      "[200]\ttraining's rmse: 0.399852\tvalid_1's rmse: 0.384054\n",
      "[400]\ttraining's rmse: 0.379272\tvalid_1's rmse: 0.377312\n",
      "[600]\ttraining's rmse: 0.371247\tvalid_1's rmse: 0.375009\n",
      "[800]\ttraining's rmse: 0.366506\tvalid_1's rmse: 0.373571\n",
      "[1000]\ttraining's rmse: 0.362647\tvalid_1's rmse: 0.37258\n"
     ]
    }
   ],
   "source": [
    "import lightgbm as lgb\n",
    "from tqdm import tqdm\n",
    "\n",
    "model = lgb.train(\n",
    "    params,\n",
    "    train_data,\n",
    "    valid_sets=[train_data, valid_data],\n",
    "    num_boost_round=600,\n",
    "    callbacks=[\n",
    "        lgb.log_evaluation(period=200),\n",
    "    ]\n",
    ")"
   ]
  },
  {
   "cell_type": "code",
   "execution_count": 17,
   "id": "0f789c1b",
   "metadata": {},
   "outputs": [
    {
     "name": "stdout",
     "output_type": "stream",
     "text": [
      "Validation RMSLE: 0.37258\n"
     ]
    }
   ],
   "source": [
    "from sklearn.metrics import mean_squared_log_error\n",
    "\n",
    "# Validation RMSLE\n",
    "y_pred_valid_log = model.predict(X_valid, num_iteration=model.best_iteration)\n",
    "y_pred_valid = np.expm1(y_pred_valid_log)   # Inverse transform\n",
    "\n",
    "def rmsle(y_true, y_pred):\n",
    "    return np.sqrt(mean_squared_log_error(y_true, np.maximum(0, y_pred)))\n",
    "\n",
    "print(f\"Validation RMSLE: {rmsle(y_valid, y_pred_valid):.5f}\")"
   ]
  },
  {
   "cell_type": "code",
   "execution_count": 18,
   "id": "eff87145",
   "metadata": {},
   "outputs": [],
   "source": [
    "# Predict on Test Set\n",
    "X_test = test[features]\n",
    "y_test_pred_log = model.predict(X_test, num_iterations=model.best_iteration)\n",
    "y_test_pred = np.expm1(y_test_pred_log)\n",
    "y_test_pred = np.maximum(0, y_test_pred)"
   ]
  },
  {
   "cell_type": "code",
   "execution_count": 21,
   "id": "7105787e",
   "metadata": {},
   "outputs": [
    {
     "name": "stdout",
     "output_type": "stream",
     "text": [
      "Submission file created successfully brother (Optimized)!\n"
     ]
    }
   ],
   "source": [
    "# Submission\n",
    "submission = pd.read_csv(output_dir / 'sample_submission.csv')\n",
    "submission['sales'] = y_test_pred\n",
    "submission.to_csv('submission.csv', index=False)\n",
    "\n",
    "print('Submission file created successfully brother (Optimized)!')"
   ]
  }
 ],
 "metadata": {
  "kernelspec": {
   "display_name": "base",
   "language": "python",
   "name": "python3"
  },
  "language_info": {
   "codemirror_mode": {
    "name": "ipython",
    "version": 3
   },
   "file_extension": ".py",
   "mimetype": "text/x-python",
   "name": "python",
   "nbconvert_exporter": "python",
   "pygments_lexer": "ipython3",
   "version": "3.12.7"
  }
 },
 "nbformat": 4,
 "nbformat_minor": 5
}
