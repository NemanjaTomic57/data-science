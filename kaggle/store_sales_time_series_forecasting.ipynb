{
 "cells": [
  {
   "cell_type": "code",
   "execution_count": null,
   "id": "e98c1c64",
   "metadata": {},
   "outputs": [],
   "source": [
    "import os\n",
    "from kaggle.api.kaggle_api_extended import KaggleApi\n",
    "import zipfile\n",
    "from pathlib import Path\n",
    "import matplotlib.pyplot as plt\n",
    "import numpy as np\n",
    "\n",
    "api = KaggleApi()\n",
    "api.authenticate()\n",
    "\n",
    "output_dir = Path('datasets')\n",
    "competition_name = 'store-sales-time-series-forecasting'\n",
    "zip_path = f'{competition_name}.zip'\n",
    "\n",
    "if not os.path.exists(output_dir):\n",
    "    # Download from kaggle\n",
    "    print('Downloading dataset...')\n",
    "    os.makedirs(output_dir, exist_ok=True)\n",
    "    api = KaggleApi()\n",
    "    api.authenticate()\n",
    "    api.competition_download_files(competition=competition_name)\n",
    "\n",
    "    # Extract datasets\n",
    "    with zipfile.ZipFile(zip_path, 'r') as zip_ref:\n",
    "        zip_ref.extractall(output_dir)"
   ]
  }
 ],
 "metadata": {
  "language_info": {
   "name": "python"
  }
 },
 "nbformat": 4,
 "nbformat_minor": 5
}
