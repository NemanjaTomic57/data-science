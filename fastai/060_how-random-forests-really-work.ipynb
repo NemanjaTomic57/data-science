{
 "cells": [
  {
   "cell_type": "markdown",
   "id": "06edaf34",
   "metadata": {
    "papermill": {
     "duration": 0.088578,
     "end_time": "2022-05-23T23:52:03.886920",
     "exception": false,
     "start_time": "2022-05-23T23:52:03.798342",
     "status": "completed"
    },
    "tags": []
   },
   "source": [
    "## Introduction"
   ]
  },
  {
   "cell_type": "markdown",
   "id": "f058b15f",
   "metadata": {
    "papermill": {
     "duration": 0.075585,
     "end_time": "2022-05-23T23:52:04.041562",
     "exception": false,
     "start_time": "2022-05-23T23:52:03.965977",
     "status": "completed"
    },
    "tags": []
   },
   "source": [
    "Previously I've shown how to create a [linear model and neural net from scratch](https://www.kaggle.com/code/jhoward/linear-model-and-neural-net-from-scratch), and used it to create a solid submission to Kaggle's [Titanic](https://www.kaggle.com/competitions/titanic/) competition. However, for *tabular* data (i.e data that looks like spreadsheet or database tables, such as the data for the Titanic competition) it's more common to see good results by using ensembles of decision trees, such as Random Forests and Gradient Boosting Machines.\n",
    "\n",
    "In this notebook, we're going to learn all about Random Forests, by building one from scratch, and using it to submit to the Titanic competition! That might sound like a pretty big stretch, but I think you'll be surprised to discover how straightforward it actually is.\n",
    "\n",
    "We'll start by importing the basic set of libraries we normally need for data science work, and setting numpy to use our display space more efficiently:"
   ]
  },
  {
   "cell_type": "code",
   "execution_count": 1,
   "id": "d64452b3",
   "metadata": {
    "_cell_guid": "b1076dfc-b9ad-4769-8c92-a6c4dae69d19",
    "_uuid": "8f2839f25d086af736a60e9eeb907d3b93b6e0e5",
    "execution": {
     "iopub.execute_input": "2022-05-23T23:52:04.194966Z",
     "iopub.status.busy": "2022-05-23T23:52:04.194414Z",
     "iopub.status.idle": "2022-05-23T23:52:04.615833Z",
     "shell.execute_reply": "2022-05-23T23:52:04.614881Z"
    },
    "papermill": {
     "duration": 0.501423,
     "end_time": "2022-05-23T23:52:04.618761",
     "exception": false,
     "start_time": "2022-05-23T23:52:04.117338",
     "status": "completed"
    },
    "tags": []
   },
   "outputs": [],
   "source": [
    "from fastai.imports import *\n",
    "np.set_printoptions(linewidth=130)"
   ]
  },
  {
   "cell_type": "markdown",
   "id": "963b3840",
   "metadata": {
    "papermill": {
     "duration": 0.076015,
     "end_time": "2022-05-23T23:52:04.770832",
     "exception": false,
     "start_time": "2022-05-23T23:52:04.694817",
     "status": "completed"
    },
    "tags": []
   },
   "source": [
    "## Data preprocessing"
   ]
  },
  {
   "cell_type": "markdown",
   "id": "c582e910",
   "metadata": {
    "papermill": {
     "duration": 0.07709,
     "end_time": "2022-05-23T23:52:04.924481",
     "exception": false,
     "start_time": "2022-05-23T23:52:04.847391",
     "status": "completed"
    },
    "tags": []
   },
   "source": [
    "We'll create `DataFrame`s from the CSV files just like we did in the \"*linear model and neural net from scratch*\" notebook, and do much the same preprocessing (so go back and check that out if you're not already familiar with the dataset):"
   ]
  },
  {
   "cell_type": "code",
   "execution_count": 2,
   "id": "8c16f049",
   "metadata": {
    "execution": {
     "iopub.execute_input": "2022-05-23T23:52:05.080498Z",
     "iopub.status.busy": "2022-05-23T23:52:05.079868Z",
     "iopub.status.idle": "2022-05-23T23:52:05.132162Z",
     "shell.execute_reply": "2022-05-23T23:52:05.131303Z"
    },
    "papermill": {
     "duration": 0.131266,
     "end_time": "2022-05-23T23:52:05.134686",
     "exception": false,
     "start_time": "2022-05-23T23:52:05.003420",
     "status": "completed"
    },
    "tags": []
   },
   "outputs": [],
   "source": [
    "import os\n",
    "iskaggle = os.environ.get('KAGGLE_KERNEL_RUN_TYPE', '')\n",
    "\n",
    "path_data = Path('data')\n",
    "path_comp = Path('titanic')\n",
    "path = path_data / path_comp\n",
    "\n",
    "if not path.exists():\n",
    "    import zipfile, kaggle\n",
    "    kaggle.api.competition_download_cli(str(path_comp))\n",
    "    zipfile.ZipFile(f\"{path_comp}.zip\").extractall(path)\n",
    "    \n",
    "df = pd.read_csv(path/'train.csv')\n",
    "tst_df = pd.read_csv(path/'test.csv')\n",
    "modes = df.mode().iloc[0]"
   ]
  },
  {
   "cell_type": "markdown",
   "id": "c0a0c35b",
   "metadata": {
    "papermill": {
     "duration": 0.074326,
     "end_time": "2022-05-23T23:52:05.283755",
     "exception": false,
     "start_time": "2022-05-23T23:52:05.209429",
     "status": "completed"
    },
    "tags": []
   },
   "source": [
    "One difference with Random Forests however is that we don't generally have to create *dummy variables* like we did for non-numeric columns in the linear models and neural network. Instead, we can just convert those fields to *categorical variables*, which internally in Pandas makes a list of all the unique values in the column, and replaces each value with a number. The number is just an index for looking up the value in the list of all unique values."
   ]
  },
  {
   "cell_type": "code",
   "execution_count": 3,
   "id": "1071c1a3",
   "metadata": {
    "execution": {
     "iopub.execute_input": "2022-05-23T23:52:05.438310Z",
     "iopub.status.busy": "2022-05-23T23:52:05.437730Z",
     "iopub.status.idle": "2022-05-23T23:52:05.458998Z",
     "shell.execute_reply": "2022-05-23T23:52:05.458205Z"
    },
    "papermill": {
     "duration": 0.099983,
     "end_time": "2022-05-23T23:52:05.461215",
     "exception": false,
     "start_time": "2022-05-23T23:52:05.361232",
     "status": "completed"
    },
    "tags": []
   },
   "outputs": [],
   "source": [
    "def proc_data(df):\n",
    "    df['Fare'] = df.Fare.fillna(0)\n",
    "    df.fillna(modes, inplace=True)\n",
    "    df['LogFare'] = np.log1p(df['Fare'])\n",
    "    df['Embarked'] = pd.Categorical(df.Embarked)\n",
    "    df['Sex'] = pd.Categorical(df.Sex)\n",
    "\n",
    "proc_data(df)\n",
    "proc_data(tst_df)"
   ]
  },
  {
   "cell_type": "markdown",
   "id": "64f0196d",
   "metadata": {
    "papermill": {
     "duration": 0.075622,
     "end_time": "2022-05-23T23:52:05.612873",
     "exception": false,
     "start_time": "2022-05-23T23:52:05.537251",
     "status": "completed"
    },
    "tags": []
   },
   "source": [
    "We'll make a list of the continuous, categorical, and dependent variables. Note that we no longer consider `Pclass` a categorical variable. That's because it's *ordered* (i.e 1st, 2nd, and 3rd class have an order), and decision trees, as we'll see, only care about order, not about absolute value."
   ]
  },
  {
   "cell_type": "code",
   "execution_count": 4,
   "id": "98336680",
   "metadata": {
    "execution": {
     "iopub.execute_input": "2022-05-23T23:52:05.767333Z",
     "iopub.status.busy": "2022-05-23T23:52:05.766770Z",
     "iopub.status.idle": "2022-05-23T23:52:05.771007Z",
     "shell.execute_reply": "2022-05-23T23:52:05.770353Z"
    },
    "papermill": {
     "duration": 0.082835,
     "end_time": "2022-05-23T23:52:05.772965",
     "exception": false,
     "start_time": "2022-05-23T23:52:05.690130",
     "status": "completed"
    },
    "tags": []
   },
   "outputs": [],
   "source": [
    "cats=[\"Sex\",\"Embarked\"]\n",
    "conts=['Age', 'SibSp', 'Parch', 'LogFare',\"Pclass\"]\n",
    "dep=\"Survived\""
   ]
  },
  {
   "cell_type": "markdown",
   "id": "1d73a083",
   "metadata": {
    "papermill": {
     "duration": 0.074566,
     "end_time": "2022-05-23T23:52:05.923051",
     "exception": false,
     "start_time": "2022-05-23T23:52:05.848485",
     "status": "completed"
    },
    "tags": []
   },
   "source": [
    "Even although we've made the `cats` columns categorical, they are still shown by Pandas as their original values:"
   ]
  },
  {
   "cell_type": "code",
   "execution_count": 5,
   "id": "d986270f",
   "metadata": {
    "execution": {
     "iopub.execute_input": "2022-05-23T23:52:06.075283Z",
     "iopub.status.busy": "2022-05-23T23:52:06.074927Z",
     "iopub.status.idle": "2022-05-23T23:52:06.084866Z",
     "shell.execute_reply": "2022-05-23T23:52:06.084138Z"
    },
    "papermill": {
     "duration": 0.088602,
     "end_time": "2022-05-23T23:52:06.087425",
     "exception": false,
     "start_time": "2022-05-23T23:52:05.998823",
     "status": "completed"
    },
    "tags": []
   },
   "outputs": [
    {
     "data": {
      "text/plain": [
       "0      male\n",
       "1    female\n",
       "2    female\n",
       "3    female\n",
       "4      male\n",
       "Name: Sex, dtype: category\n",
       "Categories (2, object): ['female', 'male']"
      ]
     },
     "execution_count": 5,
     "metadata": {},
     "output_type": "execute_result"
    }
   ],
   "source": [
    "df.Sex.head()"
   ]
  },
  {
   "cell_type": "markdown",
   "id": "f3213c9b",
   "metadata": {
    "papermill": {
     "duration": 0.075127,
     "end_time": "2022-05-23T23:52:06.239653",
     "exception": false,
     "start_time": "2022-05-23T23:52:06.164526",
     "status": "completed"
    },
    "tags": []
   },
   "source": [
    "However behind the scenes they're now stored as integers, with indices that are looked up in the `Categories` list shown in the output above. We can view the stored values by looking in the `cat.codes` attribute:"
   ]
  },
  {
   "cell_type": "code",
   "execution_count": 6,
   "id": "52d11e29",
   "metadata": {
    "execution": {
     "iopub.execute_input": "2022-05-23T23:52:06.393628Z",
     "iopub.status.busy": "2022-05-23T23:52:06.392869Z",
     "iopub.status.idle": "2022-05-23T23:52:06.399858Z",
     "shell.execute_reply": "2022-05-23T23:52:06.398821Z"
    },
    "papermill": {
     "duration": 0.085298,
     "end_time": "2022-05-23T23:52:06.401867",
     "exception": false,
     "start_time": "2022-05-23T23:52:06.316569",
     "status": "completed"
    },
    "tags": []
   },
   "outputs": [
    {
     "data": {
      "text/plain": [
       "0    1\n",
       "1    0\n",
       "2    0\n",
       "3    0\n",
       "4    1\n",
       "dtype: int8"
      ]
     },
     "execution_count": 6,
     "metadata": {},
     "output_type": "execute_result"
    }
   ],
   "source": [
    "df.Sex.cat.codes.head()"
   ]
  },
  {
   "cell_type": "markdown",
   "id": "41672065",
   "metadata": {
    "papermill": {
     "duration": 0.07507,
     "end_time": "2022-05-23T23:52:06.552765",
     "exception": false,
     "start_time": "2022-05-23T23:52:06.477695",
     "status": "completed"
    },
    "tags": []
   },
   "source": [
    "## Binary splits"
   ]
  },
  {
   "cell_type": "markdown",
   "id": "d9a0be88",
   "metadata": {
    "papermill": {
     "duration": 0.078022,
     "end_time": "2022-05-23T23:52:06.707522",
     "exception": false,
     "start_time": "2022-05-23T23:52:06.629500",
     "status": "completed"
    },
    "tags": []
   },
   "source": [
    "Before we create a Random Forest or Gradient Boosting Machine, we'll first need to learn how to create a *decision tree*, from which both of these models are built.\n",
    "\n",
    "And to create a decision tree, we'll first need to create a *binary split*, since that's what a decision tree is built from.\n",
    "\n",
    "A binary split is where all rows are placed into one of two groups, based on whether they're above or below some threshold of some column. For example, we could split the rows of our dataset into males and females, by using the threshold `0.5` and the column `Sex` (since the values in the column are `0` for `female` and `1` for `male`). We can use a plot to see how that would split up our data -- we'll use the [Seaborn](https://seaborn.pydata.org/) library, which is a layer on top of [matplotlib](https://matplotlib.org/) that makes some useful charts easier to create, and more aesthetically pleasing by default:"
   ]
  },
  {
   "cell_type": "code",
   "execution_count": 7,
   "id": "55f4f7a9",
   "metadata": {
    "execution": {
     "iopub.execute_input": "2022-05-23T23:52:06.861689Z",
     "iopub.status.busy": "2022-05-23T23:52:06.861126Z",
     "iopub.status.idle": "2022-05-23T23:52:07.884110Z",
     "shell.execute_reply": "2022-05-23T23:52:07.883114Z"
    },
    "papermill": {
     "duration": 1.102355,
     "end_time": "2022-05-23T23:52:07.886349",
     "exception": false,
     "start_time": "2022-05-23T23:52:06.783994",
     "status": "completed"
    },
    "tags": []
   },
   "outputs": [
    {
     "data": {
      "image/png": "[encoded data removed]",
      "text/plain": [
       "<Figure size 1100x500 with 2 Axes>"
      ]
     },
     "metadata": {},
     "output_type": "display_data"
    }
   ],
   "source": [
    "import seaborn as sns\n",
    "\n",
    "fig,axs = plt.subplots(1,2, figsize=(11,5))\n",
    "sns.barplot(data=df, y=dep, x=\"Sex\", ax=axs[0]).set(title=\"Survival rate\")\n",
    "sns.countplot(data=df, x=\"Sex\", ax=axs[1]).set(title=\"Histogram\");"
   ]
  },
  {
   "cell_type": "markdown",
   "id": "7e9411ae",
   "metadata": {
    "papermill": {
     "duration": 0.076048,
     "end_time": "2022-05-23T23:52:08.041349",
     "exception": false,
     "start_time": "2022-05-23T23:52:07.965301",
     "status": "completed"
    },
    "tags": []
   },
   "source": [
    "Here we see that (on the left) if we split the data into males and females, we'd have groups that have very different survival rates: >70% for females, and <20% for males. We can also see (on the right) that the split would be reasonably even, with over 300 passengers (out of around 900) in each group.\n",
    "\n",
    "We could create a very simple \"model\" which simply says that all females survive, and no males do. To do so, we better first split our data into a training and validation set, to see how accurate this approach turns out to be:"
   ]
  },
  {
   "cell_type": "code",
   "execution_count": 8,
   "id": "7b21423f",
   "metadata": {
    "execution": {
     "iopub.execute_input": "2022-05-23T23:52:08.197669Z",
     "iopub.status.busy": "2022-05-23T23:52:08.197358Z",
     "iopub.status.idle": "2022-05-23T23:52:08.381950Z",
     "shell.execute_reply": "2022-05-23T23:52:08.381258Z"
    },
    "papermill": {
     "duration": 0.266668,
     "end_time": "2022-05-23T23:52:08.384358",
     "exception": false,
     "start_time": "2022-05-23T23:52:08.117690",
     "status": "completed"
    },
    "tags": []
   },
   "outputs": [],
   "source": [
    "from numpy import random\n",
    "from sklearn.model_selection import train_test_split\n",
    "\n",
    "random.seed(42)\n",
    "trn_df,val_df = train_test_split(df, test_size=0.25)\n",
    "trn_df[cats] = trn_df[cats].apply(lambda x: x.cat.codes)\n",
    "val_df[cats] = val_df[cats].apply(lambda x: x.cat.codes)"
   ]
  },
  {
   "cell_type": "markdown",
   "id": "1ca3d1b4",
   "metadata": {
    "papermill": {
     "duration": 0.076211,
     "end_time": "2022-05-23T23:52:08.538389",
     "exception": false,
     "start_time": "2022-05-23T23:52:08.462178",
     "status": "completed"
    },
    "tags": []
   },
   "source": [
    "(In the previous step we also replaced the categorical variables with their integer codes, since some of the models we'll be building in a moment require that.)\n",
    "\n",
    "Now we can create our independent variables (the `x` variables) and dependent (the `y` variable):"
   ]
  },
  {
   "cell_type": "code",
   "execution_count": 9,
   "id": "a1bdbf46",
   "metadata": {
    "execution": {
     "iopub.execute_input": "2022-05-23T23:52:08.693767Z",
     "iopub.status.busy": "2022-05-23T23:52:08.692988Z",
     "iopub.status.idle": "2022-05-23T23:52:08.701823Z",
     "shell.execute_reply": "2022-05-23T23:52:08.700843Z"
    },
    "papermill": {
     "duration": 0.08891,
     "end_time": "2022-05-23T23:52:08.704290",
     "exception": false,
     "start_time": "2022-05-23T23:52:08.615380",
     "status": "completed"
    },
    "tags": []
   },
   "outputs": [],
   "source": [
    "def xs_y(df):\n",
    "    xs = df[cats+conts].copy()\n",
    "    return xs,df[dep] if dep in df else None\n",
    "\n",
    "trn_xs,trn_y = xs_y(trn_df)\n",
    "val_xs,val_y = xs_y(val_df)"
   ]
  },
  {
   "cell_type": "markdown",
   "id": "7f1503e1",
   "metadata": {
    "papermill": {
     "duration": 0.075886,
     "end_time": "2022-05-23T23:52:08.857760",
     "exception": false,
     "start_time": "2022-05-23T23:52:08.781874",
     "status": "completed"
    },
    "tags": []
   },
   "source": [
    "Here's the predictions for our extremely simple model, where `female` is coded as `0`:"
   ]
  },
  {
   "cell_type": "code",
   "execution_count": 10,
   "id": "4c717040",
   "metadata": {
    "execution": {
     "iopub.execute_input": "2022-05-23T23:52:09.014276Z",
     "iopub.status.busy": "2022-05-23T23:52:09.013681Z",
     "iopub.status.idle": "2022-05-23T23:52:09.018107Z",
     "shell.execute_reply": "2022-05-23T23:52:09.017344Z"
    },
    "papermill": {
     "duration": 0.085919,
     "end_time": "2022-05-23T23:52:09.020308",
     "exception": false,
     "start_time": "2022-05-23T23:52:08.934389",
     "status": "completed"
    },
    "tags": []
   },
   "outputs": [],
   "source": [
    "preds = val_xs.Sex==0"
   ]
  },
  {
   "cell_type": "markdown",
   "id": "b4a11532",
   "metadata": {
    "papermill": {
     "duration": 0.078424,
     "end_time": "2022-05-23T23:52:09.175518",
     "exception": false,
     "start_time": "2022-05-23T23:52:09.097094",
     "status": "completed"
    },
    "tags": []
   },
   "source": [
    "We'll use mean absolute error to measure how good this model is:"
   ]
  },
  {
   "cell_type": "code",
   "execution_count": 11,
   "id": "0c0d9955",
   "metadata": {
    "execution": {
     "iopub.execute_input": "2022-05-23T23:52:09.331784Z",
     "iopub.status.busy": "2022-05-23T23:52:09.331490Z",
     "iopub.status.idle": "2022-05-23T23:52:09.338210Z",
     "shell.execute_reply": "2022-05-23T23:52:09.337243Z"
    },
    "papermill": {
     "duration": 0.087547,
     "end_time": "2022-05-23T23:52:09.340660",
     "exception": false,
     "start_time": "2022-05-23T23:52:09.253113",
     "status": "completed"
    },
    "tags": []
   },
   "outputs": [
    {
     "data": {
      "text/plain": [
       "0.21524663677130046"
      ]
     },
     "execution_count": 11,
     "metadata": {},
     "output_type": "execute_result"
    }
   ],
   "source": [
    "from sklearn.metrics import mean_absolute_error\n",
    "mean_absolute_error(val_y, preds)"
   ]
  },
  {
   "cell_type": "markdown",
   "id": "f1c9360b",
   "metadata": {
    "papermill": {
     "duration": 0.076347,
     "end_time": "2022-05-23T23:52:09.494011",
     "exception": false,
     "start_time": "2022-05-23T23:52:09.417664",
     "status": "completed"
    },
    "tags": []
   },
   "source": [
    "Alternatively, we could try splitting on a continuous column. We have to use a somewhat different chart to see how this might work -- here's an example of how we could look at `LogFare`:"
   ]
  },
  {
   "cell_type": "code",
   "execution_count": 12,
   "id": "acbdf71a",
   "metadata": {
    "execution": {
     "iopub.execute_input": "2022-05-23T23:52:09.650478Z",
     "iopub.status.busy": "2022-05-23T23:52:09.650134Z",
     "iopub.status.idle": "2022-05-23T23:52:09.932886Z",
     "shell.execute_reply": "2022-05-23T23:52:09.931944Z"
    },
    "papermill": {
     "duration": 0.363754,
     "end_time": "2022-05-23T23:52:09.935270",
     "exception": false,
     "start_time": "2022-05-23T23:52:09.571516",
     "status": "completed"
    },
    "tags": []
   },
   "outputs": [
    {
     "data": {
      "image/png": "[encoded data removed]",
      "text/plain": [
       "<Figure size 1100x500 with 2 Axes>"
      ]
     },
     "metadata": {},
     "output_type": "display_data"
    }
   ],
   "source": [
    "df_fare = trn_df[trn_df.LogFare>0]\n",
    "fig,axs = plt.subplots(1,2, figsize=(11,5))\n",
    "sns.boxenplot(data=df_fare, x=dep, y=\"LogFare\", ax=axs[0])\n",
    "sns.kdeplot(data=df_fare, x=\"LogFare\", ax=axs[1]);"
   ]
  },
  {
   "cell_type": "markdown",
   "id": "79a5316d",
   "metadata": {
    "papermill": {
     "duration": 0.080153,
     "end_time": "2022-05-23T23:52:10.094741",
     "exception": false,
     "start_time": "2022-05-23T23:52:10.014588",
     "status": "completed"
    },
    "tags": []
   },
   "source": [
    "The [boxenplot](https://seaborn.pydata.org/generated/seaborn.boxenplot.html) above shows quantiles of `LogFare` for each group of `Survived==0` and `Survived==1`. It shows that the average `LogFare` for passengers that didn't survive is around `2.5`, and for those that did it's around `3.2`. So it seems that people that paid more for their tickets were more likely to get put on a lifeboat.\n",
    "\n",
    "Let's create a simple model based on this observation:"
   ]
  },
  {
   "cell_type": "code",
   "execution_count": 13,
   "id": "1ba429ff",
   "metadata": {
    "execution": {
     "iopub.execute_input": "2022-05-23T23:52:10.253568Z",
     "iopub.status.busy": "2022-05-23T23:52:10.253277Z",
     "iopub.status.idle": "2022-05-23T23:52:10.258015Z",
     "shell.execute_reply": "2022-05-23T23:52:10.257122Z"
    },
    "papermill": {
     "duration": 0.086971,
     "end_time": "2022-05-23T23:52:10.260566",
     "exception": false,
     "start_time": "2022-05-23T23:52:10.173595",
     "status": "completed"
    },
    "tags": []
   },
   "outputs": [],
   "source": [
    "preds = val_xs.LogFare>2.7"
   ]
  },
  {
   "cell_type": "markdown",
   "id": "f6d760f2",
   "metadata": {
    "papermill": {
     "duration": 0.078029,
     "end_time": "2022-05-23T23:52:10.418725",
     "exception": false,
     "start_time": "2022-05-23T23:52:10.340696",
     "status": "completed"
    },
    "tags": []
   },
   "source": [
    "...and test it out:"
   ]
  },
  {
   "cell_type": "code",
   "execution_count": 14,
   "id": "faa47c50",
   "metadata": {
    "execution": {
     "iopub.execute_input": "2022-05-23T23:52:10.577363Z",
     "iopub.status.busy": "2022-05-23T23:52:10.576760Z",
     "iopub.status.idle": "2022-05-23T23:52:10.583341Z",
     "shell.execute_reply": "2022-05-23T23:52:10.582517Z"
    },
    "papermill": {
     "duration": 0.088187,
     "end_time": "2022-05-23T23:52:10.585326",
     "exception": false,
     "start_time": "2022-05-23T23:52:10.497139",
     "status": "completed"
    },
    "tags": []
   },
   "outputs": [
    {
     "data": {
      "text/plain": [
       "0.336322869955157"
      ]
     },
     "execution_count": 14,
     "metadata": {},
     "output_type": "execute_result"
    }
   ],
   "source": [
    "mean_absolute_error(val_y, preds)"
   ]
  },
  {
   "cell_type": "markdown",
   "id": "b1fb2616",
   "metadata": {
    "papermill": {
     "duration": 0.078849,
     "end_time": "2022-05-23T23:52:10.742895",
     "exception": false,
     "start_time": "2022-05-23T23:52:10.664046",
     "status": "completed"
    },
    "tags": []
   },
   "source": [
    "This is quite a bit less accurate than our model that used `Sex` as the single binary split.\n",
    "\n",
    "Ideally, we'd like some way to try more columns and breakpoints more easily. We could create a function that returns how good our model is, in order to more quickly try out a few different splits. We'll create a `score` function to do this. Instead of returning the mean absolute error, we'll calculate a measure of *impurity* -- that is, how much the binary split creates two groups where the rows in a group are each similar to each other, or dissimilar.\n",
    "\n",
    "We can measure the similarity of rows inside a group by taking the standard deviation of the dependent variable. If it's higher, then it means the rows are more different to each other. We'll then multiply this by the number of rows, since a bigger group as more impact than a smaller group:"
   ]
  },
  {
   "cell_type": "code",
   "execution_count": 15,
   "id": "b651bfd0",
   "metadata": {
    "execution": {
     "iopub.execute_input": "2022-05-23T23:52:10.902098Z",
     "iopub.status.busy": "2022-05-23T23:52:10.901650Z",
     "iopub.status.idle": "2022-05-23T23:52:10.906471Z",
     "shell.execute_reply": "2022-05-23T23:52:10.905688Z"
    },
    "papermill": {
     "duration": 0.087027,
     "end_time": "2022-05-23T23:52:10.908542",
     "exception": false,
     "start_time": "2022-05-23T23:52:10.821515",
     "status": "completed"
    },
    "tags": []
   },
   "outputs": [],
   "source": [
    "def _side_score(side, y):\n",
    "    tot = side.sum()\n",
    "    if tot<=1: return 0\n",
    "    return y[side].std()*tot"
   ]
  },
  {
   "cell_type": "markdown",
   "id": "2e592ee2",
   "metadata": {
    "papermill": {
     "duration": 0.078184,
     "end_time": "2022-05-23T23:52:11.065440",
     "exception": false,
     "start_time": "2022-05-23T23:52:10.987256",
     "status": "completed"
    },
    "tags": []
   },
   "source": [
    "Now we've got that written, we can calculate the score for a split by adding up the scores for the \"left hand side\" (lhs) and \"right hand side\" (rhs):"
   ]
  },
  {
   "cell_type": "code",
   "execution_count": 16,
   "id": "516a5e14",
   "metadata": {
    "execution": {
     "iopub.execute_input": "2022-05-23T23:52:11.227933Z",
     "iopub.status.busy": "2022-05-23T23:52:11.227382Z",
     "iopub.status.idle": "2022-05-23T23:52:11.231832Z",
     "shell.execute_reply": "2022-05-23T23:52:11.231159Z"
    },
    "papermill": {
     "duration": 0.089432,
     "end_time": "2022-05-23T23:52:11.233859",
     "exception": false,
     "start_time": "2022-05-23T23:52:11.144427",
     "status": "completed"
    },
    "tags": []
   },
   "outputs": [],
   "source": [
    "    \n",
    "def score(col, y, split):\n",
    "    lhs = col<=split\n",
    "    return (_side_score(lhs,y) + _side_score(~lhs,y))/len(y)"
   ]
  },
  {
   "cell_type": "markdown",
   "id": "9709bc86",
   "metadata": {
    "papermill": {
     "duration": 0.078311,
     "end_time": "2022-05-23T23:52:11.393682",
     "exception": false,
     "start_time": "2022-05-23T23:52:11.315371",
     "status": "completed"
    },
    "tags": []
   },
   "source": [
    "For instance, here's the impurity score for the split on `Sex`:"
   ]
  },
  {
   "cell_type": "code",
   "execution_count": 37,
   "id": "fae1fdbc",
   "metadata": {
    "execution": {
     "iopub.execute_input": "2022-05-23T23:52:11.552734Z",
     "iopub.status.busy": "2022-05-23T23:52:11.552167Z",
     "iopub.status.idle": "2022-05-23T23:52:11.559158Z",
     "shell.execute_reply": "2022-05-23T23:52:11.558604Z"
    },
    "papermill": {
     "duration": 0.088961,
     "end_time": "2022-05-23T23:52:11.561023",
     "exception": false,
     "start_time": "2022-05-23T23:52:11.472062",
     "status": "completed"
    },
    "tags": []
   },
   "outputs": [
    {
     "data": {
      "text/plain": [
       "0.4078753098206398"
      ]
     },
     "execution_count": 37,
     "metadata": {},
     "output_type": "execute_result"
    }
   ],
   "source": [
    "score(trn_xs[\"Sex\"], trn_y, 0.5)"
   ]
  },
  {
   "cell_type": "markdown",
   "id": "364e9f82",
   "metadata": {
    "papermill": {
     "duration": 0.07955,
     "end_time": "2022-05-23T23:52:11.720650",
     "exception": false,
     "start_time": "2022-05-23T23:52:11.641100",
     "status": "completed"
    },
    "tags": []
   },
   "source": [
    "...and for `LogFare`:"
   ]
  },
  {
   "cell_type": "code",
   "execution_count": 18,
   "id": "e6549176",
   "metadata": {
    "execution": {
     "iopub.execute_input": "2022-05-23T23:52:11.885615Z",
     "iopub.status.busy": "2022-05-23T23:52:11.885055Z",
     "iopub.status.idle": "2022-05-23T23:52:11.892268Z",
     "shell.execute_reply": "2022-05-23T23:52:11.891417Z"
    },
    "papermill": {
     "duration": 0.09165,
     "end_time": "2022-05-23T23:52:11.894535",
     "exception": false,
     "start_time": "2022-05-23T23:52:11.802885",
     "status": "completed"
    },
    "tags": []
   },
   "outputs": [
    {
     "data": {
      "text/plain": [
       "0.4718087395209973"
      ]
     },
     "execution_count": 18,
     "metadata": {},
     "output_type": "execute_result"
    }
   ],
   "source": [
    "score(trn_xs[\"LogFare\"], trn_y, 2.7)"
   ]
  },
  {
   "cell_type": "markdown",
   "id": "356238b3",
   "metadata": {
    "papermill": {
     "duration": 0.079081,
     "end_time": "2022-05-23T23:52:12.055373",
     "exception": false,
     "start_time": "2022-05-23T23:52:11.976292",
     "status": "completed"
    },
    "tags": []
   },
   "source": [
    "As we'd expect from our earlier tests, `Sex` appears to be a better split.\n",
    "\n",
    "To make it easier to find the best binary split, we can create a simple interactive tool (note that this only works in Kaggle if you click \"Copy and Edit\" in the top right to open the notebook editor):"
   ]
  },
  {
   "cell_type": "code",
   "execution_count": 19,
   "id": "8c928d3b",
   "metadata": {
    "execution": {
     "iopub.execute_input": "2022-05-23T23:52:12.216334Z",
     "iopub.status.busy": "2022-05-23T23:52:12.215970Z",
     "iopub.status.idle": "2022-05-23T23:52:12.265156Z",
     "shell.execute_reply": "2022-05-23T23:52:12.264332Z"
    },
    "papermill": {
     "duration": 0.132469,
     "end_time": "2022-05-23T23:52:12.267078",
     "exception": false,
     "start_time": "2022-05-23T23:52:12.134609",
     "status": "completed"
    },
    "tags": []
   },
   "outputs": [
    {
     "data": {
      "application/vnd.jupyter.widget-view+json": {
       "model_id": "25f139d5ef3641d8bd09c53937945847",
       "version_major": 2,
       "version_minor": 0
      },
      "text/plain": [
       "interactive(children=(Dropdown(description='nm', options=('Age', 'SibSp', 'Parch', 'LogFare', 'Pclass'), value…"
      ]
     },
     "metadata": {},
     "output_type": "display_data"
    }
   ],
   "source": [
    "def iscore(nm, split):\n",
    "    col = trn_xs[nm]\n",
    "    return score(col, trn_y, split)\n",
    "\n",
    "from ipywidgets import interact\n",
    "interact(nm=conts, split=15.5)(iscore);"
   ]
  },
  {
   "cell_type": "markdown",
   "id": "815eb4ff",
   "metadata": {
    "papermill": {
     "duration": 0.079567,
     "end_time": "2022-05-23T23:52:12.429393",
     "exception": false,
     "start_time": "2022-05-23T23:52:12.349826",
     "status": "completed"
    },
    "tags": []
   },
   "source": [
    "Try selecting different columns and split points using the dropdown and slider above. What splits can you find that increase the purity of the data?\n",
    "\n",
    "We can do the same thing for the categorical variables:"
   ]
  },
  {
   "cell_type": "code",
   "execution_count": null,
   "id": "7a01bf2f",
   "metadata": {
    "execution": {
     "iopub.execute_input": "2022-05-23T23:52:12.590541Z",
     "iopub.status.busy": "2022-05-23T23:52:12.589936Z",
     "iopub.status.idle": "2022-05-23T23:52:12.629855Z",
     "shell.execute_reply": "2022-05-23T23:52:12.629042Z"
    },
    "papermill": {
     "duration": 0.12315,
     "end_time": "2022-05-23T23:52:12.632048",
     "exception": false,
     "start_time": "2022-05-23T23:52:12.508898",
     "status": "completed"
    },
    "tags": []
   },
   "outputs": [
    {
     "data": {
      "application/vnd.jupyter.widget-view+json": {
       "model_id": "98c1ce4a8f8d4d939ecc9066472b81dc",
       "version_major": 2,
       "version_minor": 0
      },
      "text/plain": [
       "interactive(children=(Dropdown(description='nm', options=('Sex', 'Embarked'), value='Sex'), IntSlider(value=2,…"
      ]
     },
     "metadata": {},
     "output_type": "display_data"
    }
   ],
   "source": [
    "interact(nm=cats, split=2)(iscore);"
   ]
  },
  {
   "cell_type": "markdown",
   "id": "2ca21219",
   "metadata": {
    "papermill": {
     "duration": 0.083889,
     "end_time": "2022-05-23T23:52:12.798280",
     "exception": false,
     "start_time": "2022-05-23T23:52:12.714391",
     "status": "completed"
    },
    "tags": []
   },
   "source": [
    "That works well enough, but it's rather slow and fiddly. Perhaps we could get the computer to automatically find the best split point for a column for us? For example, to find the best split point for `age` we'd first need to make a list of all the possible split points (i.e all the unique values of that field)...:"
   ]
  },
  {
   "cell_type": "code",
   "execution_count": 21,
   "id": "e874abe7",
   "metadata": {
    "execution": {
     "iopub.execute_input": "2022-05-23T23:52:12.966711Z",
     "iopub.status.busy": "2022-05-23T23:52:12.966335Z",
     "iopub.status.idle": "2022-05-23T23:52:12.974377Z",
     "shell.execute_reply": "2022-05-23T23:52:12.973469Z"
    },
    "papermill": {
     "duration": 0.094016,
     "end_time": "2022-05-23T23:52:12.976340",
     "exception": false,
     "start_time": "2022-05-23T23:52:12.882324",
     "status": "completed"
    },
    "tags": []
   },
   "outputs": [
    {
     "data": {
      "text/plain": [
       "array([ 0.42,  0.67,  0.75,  0.83,  0.92,  1.  ,  2.  ,  3.  ,  4.  ,  5.  ,  6.  ,  7.  ,  8.  ,  9.  , 10.  , 11.  , 12.  ,\n",
       "       13.  , 14.  , 14.5 , 15.  , 16.  , 17.  , 18.  , 19.  , 20.  , 21.  , 22.  , 23.  , 24.  , 24.5 , 25.  , 26.  , 27.  ,\n",
       "       28.  , 28.5 , 29.  , 30.  , 31.  , 32.  , 32.5 , 33.  , 34.  , 34.5 , 35.  , 36.  , 36.5 , 37.  , 38.  , 39.  , 40.  ,\n",
       "       40.5 , 41.  , 42.  , 43.  , 44.  , 45.  , 45.5 , 46.  , 47.  , 48.  , 49.  , 50.  , 51.  , 52.  , 53.  , 54.  , 55.  ,\n",
       "       55.5 , 56.  , 57.  , 58.  , 59.  , 60.  , 61.  , 62.  , 64.  , 65.  , 70.  , 70.5 , 74.  , 80.  ])"
      ]
     },
     "execution_count": 21,
     "metadata": {},
     "output_type": "execute_result"
    }
   ],
   "source": [
    "nm = \"Age\"\n",
    "col = trn_xs[nm]\n",
    "unq = col.unique()\n",
    "unq.sort()\n",
    "unq"
   ]
  },
  {
   "cell_type": "markdown",
   "id": "89155c82",
   "metadata": {
    "papermill": {
     "duration": 0.082301,
     "end_time": "2022-05-23T23:52:13.139089",
     "exception": false,
     "start_time": "2022-05-23T23:52:13.056788",
     "status": "completed"
    },
    "tags": []
   },
   "source": [
    "...and find which index of those values is where `score()` is the lowest:"
   ]
  },
  {
   "cell_type": "code",
   "execution_count": 38,
   "id": "46695da8",
   "metadata": {
    "execution": {
     "iopub.execute_input": "2022-05-23T23:52:13.304274Z",
     "iopub.status.busy": "2022-05-23T23:52:13.303102Z",
     "iopub.status.idle": "2022-05-23T23:52:13.380984Z",
     "shell.execute_reply": "2022-05-23T23:52:13.380401Z"
    },
    "papermill": {
     "duration": 0.162462,
     "end_time": "2022-05-23T23:52:13.382996",
     "exception": false,
     "start_time": "2022-05-23T23:52:13.220534",
     "status": "completed"
    },
    "tags": []
   },
   "outputs": [
    {
     "data": {
      "text/plain": [
       "6.0"
      ]
     },
     "execution_count": 38,
     "metadata": {},
     "output_type": "execute_result"
    }
   ],
   "source": [
    "scores = np.array([score(col, trn_y, o) for o in unq if not np.isnan(o)])\n",
    "unq[scores.argmin()]"
   ]
  },
  {
   "cell_type": "markdown",
   "id": "a16194f3",
   "metadata": {
    "papermill": {
     "duration": 0.081418,
     "end_time": "2022-05-23T23:52:13.547416",
     "exception": false,
     "start_time": "2022-05-23T23:52:13.465998",
     "status": "completed"
    },
    "tags": []
   },
   "source": [
    "Based on this, it looks like, for instance, that for the `Age` column, `6` is the optimal cutoff according to our training set.\n",
    "\n",
    "We can write a little function that implements this idea:"
   ]
  },
  {
   "cell_type": "code",
   "execution_count": 39,
   "id": "dbfea30b",
   "metadata": {
    "execution": {
     "iopub.execute_input": "2022-05-23T23:52:13.713714Z",
     "iopub.status.busy": "2022-05-23T23:52:13.713139Z",
     "iopub.status.idle": "2022-05-23T23:52:13.796796Z",
     "shell.execute_reply": "2022-05-23T23:52:13.795637Z"
    },
    "papermill": {
     "duration": 0.169239,
     "end_time": "2022-05-23T23:52:13.799146",
     "exception": false,
     "start_time": "2022-05-23T23:52:13.629907",
     "status": "completed"
    },
    "tags": []
   },
   "outputs": [
    {
     "data": {
      "text/plain": [
       "(6.0, 0.47831671750899085)"
      ]
     },
     "execution_count": 39,
     "metadata": {},
     "output_type": "execute_result"
    }
   ],
   "source": [
    "def min_col(df, nm):\n",
    "    col,y = df[nm],df[dep]\n",
    "    unq = col.dropna().unique()\n",
    "    scores = np.array([score(col, y, o) for o in unq if not np.isnan(o)])\n",
    "    idx = scores.argmin()\n",
    "    return unq[idx],scores[idx]\n",
    "\n",
    "min_col(trn_df, \"Age\")"
   ]
  },
  {
   "cell_type": "markdown",
   "id": "4982e304",
   "metadata": {
    "papermill": {
     "duration": 0.082152,
     "end_time": "2022-05-23T23:52:13.965025",
     "exception": false,
     "start_time": "2022-05-23T23:52:13.882873",
     "status": "completed"
    },
    "tags": []
   },
   "source": [
    "Let's try all the columns:"
   ]
  },
  {
   "cell_type": "code",
   "execution_count": 40,
   "id": "ea0dd416",
   "metadata": {
    "execution": {
     "iopub.execute_input": "2022-05-23T23:52:14.132925Z",
     "iopub.status.busy": "2022-05-23T23:52:14.132393Z",
     "iopub.status.idle": "2022-05-23T23:52:14.415875Z",
     "shell.execute_reply": "2022-05-23T23:52:14.414970Z"
    },
    "papermill": {
     "duration": 0.368983,
     "end_time": "2022-05-23T23:52:14.418270",
     "exception": false,
     "start_time": "2022-05-23T23:52:14.049287",
     "status": "completed"
    },
    "tags": []
   },
   "outputs": [
    {
     "data": {
      "text/plain": [
       "{'Sex': (0, 0.4078753098206398),\n",
       " 'Embarked': (0, 0.478833425731479),\n",
       " 'Age': (6.0, 0.47831671750899085),\n",
       " 'SibSp': (4, 0.4783740258817423),\n",
       " 'Parch': (0, 0.4805296527841601),\n",
       " 'LogFare': (2.4390808375825834, 0.4620823937736595),\n",
       " 'Pclass': (2, 0.4604826188580666)}"
      ]
     },
     "execution_count": 40,
     "metadata": {},
     "output_type": "execute_result"
    }
   ],
   "source": [
    "cols = cats+conts\n",
    "{o:min_col(trn_df, o) for o in cols}"
   ]
  },
  {
   "cell_type": "markdown",
   "id": "b9efce23",
   "metadata": {
    "papermill": {
     "duration": 0.084939,
     "end_time": "2022-05-23T23:52:14.586316",
     "exception": false,
     "start_time": "2022-05-23T23:52:14.501377",
     "status": "completed"
    },
    "tags": []
   },
   "source": [
    "According to this, `Sex<=0` is the best split we can use.\n",
    "\n",
    "We've just re-invented the [OneR](https://link.springer.com/article/10.1023/A:1022631118932) classifier (or at least, a minor variant of it), which was found to be one of the most effective classifiers in real-world datasets, compared to the algorithms in use in 1993. Since it's so simple and surprisingly effective, it makes for a great *baseline* -- that is, a starting point that you can use to compare your more sophisticated models to.\n",
    "\n",
    "We found earlier that out OneR rule had an error of around `0.215`, so we'll keep that in mind as we try out more sophisticated approaches."
   ]
  },
  {
   "cell_type": "markdown",
   "id": "188dce42",
   "metadata": {
    "papermill": {
     "duration": 0.08557,
     "end_time": "2022-05-23T23:52:14.754376",
     "exception": false,
     "start_time": "2022-05-23T23:52:14.668806",
     "status": "completed"
    },
    "tags": []
   },
   "source": [
    "## Creating a decision tree"
   ]
  },
  {
   "cell_type": "markdown",
   "id": "4b46f3c0",
   "metadata": {
    "papermill": {
     "duration": 0.082087,
     "end_time": "2022-05-23T23:52:14.936889",
     "exception": false,
     "start_time": "2022-05-23T23:52:14.854802",
     "status": "completed"
    },
    "tags": []
   },
   "source": [
    "How can we improve our OneR classifier, which predicts survival based only on `Sex`?\n",
    "\n",
    "How about we take each of our two groups, `female` and `male`, and create one more binary split for each of them. That is: fine the single best split for females, and the single best split for males. To do this, all we have to do is repeat the previous section's steps, once for males, and once for females.\n",
    "\n",
    "First, we'll remove `Sex` from the list of possible splits (since we've already used it, and there's only one possible split for that binary column), and create our two groups:"
   ]
  },
  {
   "cell_type": "code",
   "execution_count": 41,
   "id": "c763fa2d",
   "metadata": {
    "execution": {
     "iopub.execute_input": "2022-05-23T23:52:15.108874Z",
     "iopub.status.busy": "2022-05-23T23:52:15.107962Z",
     "iopub.status.idle": "2022-05-23T23:52:15.113883Z",
     "shell.execute_reply": "2022-05-23T23:52:15.113202Z"
    },
    "papermill": {
     "duration": 0.096166,
     "end_time": "2022-05-23T23:52:15.116020",
     "exception": false,
     "start_time": "2022-05-23T23:52:15.019854",
     "status": "completed"
    },
    "tags": []
   },
   "outputs": [],
   "source": [
    "cols.remove(\"Sex\")\n",
    "ismale = trn_df.Sex==1\n",
    "males,females = trn_df[ismale],trn_df[~ismale]"
   ]
  },
  {
   "cell_type": "markdown",
   "id": "6fe0016a",
   "metadata": {
    "papermill": {
     "duration": 0.083992,
     "end_time": "2022-05-23T23:52:15.291509",
     "exception": false,
     "start_time": "2022-05-23T23:52:15.207517",
     "status": "completed"
    },
    "tags": []
   },
   "source": [
    "Now let's find the single best binary split for males...:"
   ]
  },
  {
   "cell_type": "code",
   "execution_count": 42,
   "id": "7e2ddff4",
   "metadata": {
    "execution": {
     "iopub.execute_input": "2022-05-23T23:52:15.458872Z",
     "iopub.status.busy": "2022-05-23T23:52:15.458593Z",
     "iopub.status.idle": "2022-05-23T23:52:15.681368Z",
     "shell.execute_reply": "2022-05-23T23:52:15.680415Z"
    },
    "papermill": {
     "duration": 0.308595,
     "end_time": "2022-05-23T23:52:15.683697",
     "exception": false,
     "start_time": "2022-05-23T23:52:15.375102",
     "status": "completed"
    },
    "tags": []
   },
   "outputs": [
    {
     "data": {
      "text/plain": [
       "{'Embarked': (0, 0.387558187041091),\n",
       " 'Age': (6.0, 0.37398283710105873),\n",
       " 'SibSp': (4, 0.38758642275862637),\n",
       " 'Parch': (0, 0.3874704821461953),\n",
       " 'LogFare': (2.803360380906535, 0.38048562317581447),\n",
       " 'Pclass': (1, 0.3815544200436083)}"
      ]
     },
     "execution_count": 42,
     "metadata": {},
     "output_type": "execute_result"
    }
   ],
   "source": [
    "{o:min_col(males, o) for o in cols}"
   ]
  },
  {
   "cell_type": "markdown",
   "id": "9a2311f4",
   "metadata": {
    "papermill": {
     "duration": 0.082834,
     "end_time": "2022-05-23T23:52:15.849096",
     "exception": false,
     "start_time": "2022-05-23T23:52:15.766262",
     "status": "completed"
    },
    "tags": []
   },
   "source": [
    "...and for females:"
   ]
  },
  {
   "cell_type": "code",
   "execution_count": 43,
   "id": "9bf7b509",
   "metadata": {
    "execution": {
     "iopub.execute_input": "2022-05-23T23:52:16.018822Z",
     "iopub.status.busy": "2022-05-23T23:52:16.017551Z",
     "iopub.status.idle": "2022-05-23T23:52:16.192436Z",
     "shell.execute_reply": "2022-05-23T23:52:16.191481Z"
    },
    "papermill": {
     "duration": 0.262921,
     "end_time": "2022-05-23T23:52:16.194640",
     "exception": false,
     "start_time": "2022-05-23T23:52:15.931719",
     "status": "completed"
    },
    "tags": []
   },
   "outputs": [
    {
     "data": {
      "text/plain": [
       "{'Embarked': (0, 0.4295252982857326),\n",
       " 'Age': (50.0, 0.4225927658431646),\n",
       " 'SibSp': (4, 0.42319212059713585),\n",
       " 'Parch': (3, 0.4193314500446157),\n",
       " 'LogFare': (4.256321678298823, 0.413505983329114),\n",
       " 'Pclass': (2, 0.3335388911567602)}"
      ]
     },
     "execution_count": 43,
     "metadata": {},
     "output_type": "execute_result"
    }
   ],
   "source": [
    "{o:min_col(females, o) for o in cols}"
   ]
  },
  {
   "cell_type": "markdown",
   "id": "aff7ee6c",
   "metadata": {
    "papermill": {
     "duration": 0.082127,
     "end_time": "2022-05-23T23:52:16.360962",
     "exception": false,
     "start_time": "2022-05-23T23:52:16.278835",
     "status": "completed"
    },
    "tags": []
   },
   "source": [
    "We can see that the best next binary split for males is `Age<=6`, and for females is `Pclass<=2`.\n",
    "\n",
    "By adding these rules, we have created a *decision tree*, where our model will first check whether `Sex` is female or male, and depending on the result will then check either the above `Age` or `Pclass` rules, as appropriate. We could then repeat the process, creating new additional rules for each of the four groups we've now created.\n",
    "\n",
    "Rather than writing that code manually, we can use `DecisionTreeClassifier`, from *sklearn*, which does exactly that for us:"
   ]
  },
  {
   "cell_type": "code",
   "execution_count": 81,
   "id": "ec097da2",
   "metadata": {
    "execution": {
     "iopub.execute_input": "2022-05-23T23:52:16.529664Z",
     "iopub.status.busy": "2022-05-23T23:52:16.529398Z",
     "iopub.status.idle": "2022-05-23T23:52:16.695471Z",
     "shell.execute_reply": "2022-05-23T23:52:16.694497Z"
    },
    "papermill": {
     "duration": 0.252427,
     "end_time": "2022-05-23T23:52:16.697904",
     "exception": false,
     "start_time": "2022-05-23T23:52:16.445477",
     "status": "completed"
    },
    "tags": []
   },
   "outputs": [],
   "source": [
    "from sklearn.tree import DecisionTreeClassifier, export_graphviz\n",
    "\n",
    "m = DecisionTreeClassifier(max_leaf_nodes=4).fit(trn_xs, trn_y);"
   ]
  },
  {
   "cell_type": "markdown",
   "id": "d99cb625",
   "metadata": {
    "papermill": {
     "duration": 0.083074,
     "end_time": "2022-05-23T23:52:16.867207",
     "exception": false,
     "start_time": "2022-05-23T23:52:16.784133",
     "status": "completed"
    },
    "tags": []
   },
   "source": [
    "One handy feature or this class is that it provides a function for drawing a tree representing the rules:"
   ]
  },
  {
   "cell_type": "code",
   "execution_count": 82,
   "id": "aecbdf2c",
   "metadata": {
    "execution": {
     "iopub.execute_input": "2022-05-23T23:52:17.035987Z",
     "iopub.status.busy": "2022-05-23T23:52:17.035668Z",
     "iopub.status.idle": "2022-05-23T23:52:17.053247Z",
     "shell.execute_reply": "2022-05-23T23:52:17.052446Z"
    },
    "papermill": {
     "duration": 0.104803,
     "end_time": "2022-05-23T23:52:17.055420",
     "exception": false,
     "start_time": "2022-05-23T23:52:16.950617",
     "status": "completed"
    },
    "tags": []
   },
   "outputs": [],
   "source": [
    "import graphviz\n",
    "\n",
    "def draw_tree(t, df, size=10, ratio=0.6, precision=2, **kwargs):\n",
    "    s=export_graphviz(t, out_file=None, feature_names=df.columns, filled=True, rounded=True,\n",
    "                      special_characters=True, rotate=False, precision=precision, **kwargs)\n",
    "    return graphviz.Source(re.sub('Tree {', f'Tree {{ size={size}; ratio={ratio}', s))"
   ]
  },
  {
   "cell_type": "code",
   "execution_count": 83,
   "id": "1bdc0cef",
   "metadata": {
    "execution": {
     "iopub.execute_input": "2022-05-23T23:52:17.223303Z",
     "iopub.status.busy": "2022-05-23T23:52:17.222716Z",
     "iopub.status.idle": "2022-05-23T23:52:18.363065Z",
     "shell.execute_reply": "2022-05-23T23:52:18.362266Z"
    },
    "papermill": {
     "duration": 1.226978,
     "end_time": "2022-05-23T23:52:18.365861",
     "exception": false,
     "start_time": "2022-05-23T23:52:17.138883",
     "status": "completed"
    },
    "tags": []
   },
   "outputs": [
    {
     "data": {
      "image/svg+xml": [
       "<?xml version=\"1.0\" encoding=\"UTF-8\" standalone=\"no\"?>\n",
       "<!DOCTYPE svg PUBLIC \"-//W3C//DTD SVG 1.1//EN\"\n",
       " \"http://www.w3.org/Graphics/SVG/1.1/DTD/svg11.dtd\">\n",
       "<!-- Generated by graphviz version 12.2.1 (0)\n",
       " -->\n",
       "<!-- Title: Tree Pages: 1 -->\n",
       "<svg width=\"589pt\" height=\"356pt\"\n",
       " viewBox=\"0.00 0.00 588.50 356.30\" xmlns=\"http://www.w3.org/2000/svg\" xmlns:xlink=\"http://www.w3.org/1999/xlink\">\n",
       "<g id=\"graph0\" class=\"graph\" transform=\"scale(1 1) rotate(0) translate(4 352.3)\">\n",
       "<title>Tree</title>\n",
       "<polygon fill=\"white\" stroke=\"none\" points=\"-4,4 -4,-352.3 584.5,-352.3 584.5,4 -4,4\"/>\n",
       "<!-- 0 -->\n",
       "<g id=\"node1\" class=\"node\">\n",
       "<title>0</title>\n",
       "<path fill=\"#f5ceb2\" stroke=\"black\" d=\"M349,-339.5C349,-339.5 225,-339.5 225,-339.5 219,-339.5 213,-333.5 213,-327.5 213,-327.5 213,-274.5 213,-274.5 213,-268.5 219,-262.5 225,-262.5 225,-262.5 349,-262.5 349,-262.5 355,-262.5 361,-268.5 361,-274.5 361,-274.5 361,-327.5 361,-327.5 361,-333.5 355,-339.5 349,-339.5\"/>\n",
       "<text text-anchor=\"start\" x=\"252.5\" y=\"-322.2\" font-family=\"Helvetica,sans-Serif\" font-size=\"14.00\">Sex ≤ 0.5</text>\n",
       "<text text-anchor=\"start\" x=\"248\" y=\"-304.95\" font-family=\"Helvetica,sans-Serif\" font-size=\"14.00\">gini = 0.47</text>\n",
       "<text text-anchor=\"start\" x=\"234.12\" y=\"-287.7\" font-family=\"Helvetica,sans-Serif\" font-size=\"14.00\">samples = 668</text>\n",
       "<text text-anchor=\"start\" x=\"221\" y=\"-270.45\" font-family=\"Helvetica,sans-Serif\" font-size=\"14.00\">value = [415, 253]</text>\n",
       "</g>\n",
       "<!-- 1 -->\n",
       "<g id=\"node2\" class=\"node\">\n",
       "<title>1</title>\n",
       "<path fill=\"#7ebfee\" stroke=\"black\" d=\"M266.5,-202.5C266.5,-202.5 151.5,-202.5 151.5,-202.5 145.5,-202.5 139.5,-196.5 139.5,-190.5 139.5,-190.5 139.5,-137.5 139.5,-137.5 139.5,-131.5 145.5,-125.5 151.5,-125.5 151.5,-125.5 266.5,-125.5 266.5,-125.5 272.5,-125.5 278.5,-131.5 278.5,-137.5 278.5,-137.5 278.5,-190.5 278.5,-190.5 278.5,-196.5 272.5,-202.5 266.5,-202.5\"/>\n",
       "<text text-anchor=\"start\" x=\"165.88\" y=\"-185.2\" font-family=\"Helvetica,sans-Serif\" font-size=\"14.00\">Pclass ≤ 2.5</text>\n",
       "<text text-anchor=\"start\" x=\"170\" y=\"-167.95\" font-family=\"Helvetica,sans-Serif\" font-size=\"14.00\">gini = 0.38</text>\n",
       "<text text-anchor=\"start\" x=\"156.12\" y=\"-150.7\" font-family=\"Helvetica,sans-Serif\" font-size=\"14.00\">samples = 229</text>\n",
       "<text text-anchor=\"start\" x=\"147.5\" y=\"-133.45\" font-family=\"Helvetica,sans-Serif\" font-size=\"14.00\">value = [59, 170]</text>\n",
       "</g>\n",
       "<!-- 0&#45;&gt;1 -->\n",
       "<g id=\"edge1\" class=\"edge\">\n",
       "<title>0&#45;&gt;1</title>\n",
       "<path fill=\"none\" stroke=\"black\" d=\"M265.07,-262.04C256.18,-246.66 245.83,-228.75 236.46,-212.52\"/>\n",
       "<polygon fill=\"black\" stroke=\"black\" points=\"239.56,-210.9 231.53,-203.99 233.5,-214.4 239.56,-210.9\"/>\n",
       "<text text-anchor=\"middle\" x=\"224.31\" y=\"-222.15\" font-family=\"Helvetica,sans-Serif\" font-size=\"14.00\">True</text>\n",
       "</g>\n",
       "<!-- 2 -->\n",
       "<g id=\"node5\" class=\"node\">\n",
       "<title>2</title>\n",
       "<path fill=\"#eb9e67\" stroke=\"black\" d=\"M423.5,-202.5C423.5,-202.5 308.5,-202.5 308.5,-202.5 302.5,-202.5 296.5,-196.5 296.5,-190.5 296.5,-190.5 296.5,-137.5 296.5,-137.5 296.5,-131.5 302.5,-125.5 308.5,-125.5 308.5,-125.5 423.5,-125.5 423.5,-125.5 429.5,-125.5 435.5,-131.5 435.5,-137.5 435.5,-137.5 435.5,-190.5 435.5,-190.5 435.5,-196.5 429.5,-202.5 423.5,-202.5\"/>\n",
       "<text text-anchor=\"start\" x=\"330.75\" y=\"-185.2\" font-family=\"Helvetica,sans-Serif\" font-size=\"14.00\">Age ≤ 6.5</text>\n",
       "<text text-anchor=\"start\" x=\"327\" y=\"-167.95\" font-family=\"Helvetica,sans-Serif\" font-size=\"14.00\">gini = 0.31</text>\n",
       "<text text-anchor=\"start\" x=\"313.12\" y=\"-150.7\" font-family=\"Helvetica,sans-Serif\" font-size=\"14.00\">samples = 439</text>\n",
       "<text text-anchor=\"start\" x=\"304.5\" y=\"-133.45\" font-family=\"Helvetica,sans-Serif\" font-size=\"14.00\">value = [356, 83]</text>\n",
       "</g>\n",
       "<!-- 0&#45;&gt;2 -->\n",
       "<g id=\"edge4\" class=\"edge\">\n",
       "<title>0&#45;&gt;2</title>\n",
       "<path fill=\"none\" stroke=\"black\" d=\"M309.22,-262.04C318.21,-246.66 328.7,-228.75 338.19,-212.52\"/>\n",
       "<polygon fill=\"black\" stroke=\"black\" points=\"341.16,-214.38 343.19,-203.99 335.11,-210.85 341.16,-214.38\"/>\n",
       "<text text-anchor=\"middle\" x=\"350.28\" y=\"-222.19\" font-family=\"Helvetica,sans-Serif\" font-size=\"14.00\">False</text>\n",
       "</g>\n",
       "<!-- 3 -->\n",
       "<g id=\"node3\" class=\"node\">\n",
       "<title>3</title>\n",
       "<path fill=\"#40a0e6\" stroke=\"black\" d=\"M118,-65.88C118,-65.88 12,-65.88 12,-65.88 6,-65.88 0,-59.88 0,-53.88 0,-53.88 0,-18.12 0,-18.12 0,-12.12 6,-6.12 12,-6.12 12,-6.12 118,-6.12 118,-6.12 124,-6.12 130,-12.12 130,-18.12 130,-18.12 130,-53.88 130,-53.88 130,-59.88 124,-65.88 118,-65.88\"/>\n",
       "<text text-anchor=\"start\" x=\"26\" y=\"-48.58\" font-family=\"Helvetica,sans-Serif\" font-size=\"14.00\">gini = 0.06</text>\n",
       "<text text-anchor=\"start\" x=\"12.12\" y=\"-31.32\" font-family=\"Helvetica,sans-Serif\" font-size=\"14.00\">samples = 120</text>\n",
       "<text text-anchor=\"start\" x=\"8\" y=\"-14.07\" font-family=\"Helvetica,sans-Serif\" font-size=\"14.00\">value = [4, 116]</text>\n",
       "</g>\n",
       "<!-- 1&#45;&gt;3 -->\n",
       "<g id=\"edge2\" class=\"edge\">\n",
       "<title>1&#45;&gt;3</title>\n",
       "<path fill=\"none\" stroke=\"black\" d=\"M165.8,-125.2C147.2,-108.93 125.54,-89.97 107.07,-73.81\"/>\n",
       "<polygon fill=\"black\" stroke=\"black\" points=\"109.53,-71.32 99.7,-67.36 104.92,-76.58 109.53,-71.32\"/>\n",
       "</g>\n",
       "<!-- 4 -->\n",
       "<g id=\"node4\" class=\"node\">\n",
       "<title>4</title>\n",
       "<path fill=\"#fffdfb\" stroke=\"black\" d=\"M266,-65.88C266,-65.88 160,-65.88 160,-65.88 154,-65.88 148,-59.88 148,-53.88 148,-53.88 148,-18.12 148,-18.12 148,-12.12 154,-6.12 160,-6.12 160,-6.12 266,-6.12 266,-6.12 272,-6.12 278,-12.12 278,-18.12 278,-18.12 278,-53.88 278,-53.88 278,-59.88 272,-65.88 266,-65.88\"/>\n",
       "<text text-anchor=\"start\" x=\"178.5\" y=\"-48.58\" font-family=\"Helvetica,sans-Serif\" font-size=\"14.00\">gini = 0.5</text>\n",
       "<text text-anchor=\"start\" x=\"160.12\" y=\"-31.32\" font-family=\"Helvetica,sans-Serif\" font-size=\"14.00\">samples = 109</text>\n",
       "<text text-anchor=\"start\" x=\"156\" y=\"-14.07\" font-family=\"Helvetica,sans-Serif\" font-size=\"14.00\">value = [55, 54]</text>\n",
       "</g>\n",
       "<!-- 1&#45;&gt;4 -->\n",
       "<g id=\"edge3\" class=\"edge\">\n",
       "<title>1&#45;&gt;4</title>\n",
       "<path fill=\"none\" stroke=\"black\" d=\"M210.2,-125.2C210.68,-110.18 211.23,-92.87 211.71,-77.59\"/>\n",
       "<polygon fill=\"black\" stroke=\"black\" points=\"215.2,-77.99 212.02,-67.88 208.2,-77.76 215.2,-77.99\"/>\n",
       "</g>\n",
       "<!-- 5 -->\n",
       "<g id=\"node6\" class=\"node\">\n",
       "<title>5</title>\n",
       "<path fill=\"#88c4ef\" stroke=\"black\" d=\"M411.5,-65.88C411.5,-65.88 314.5,-65.88 314.5,-65.88 308.5,-65.88 302.5,-59.88 302.5,-53.88 302.5,-53.88 302.5,-18.12 302.5,-18.12 302.5,-12.12 308.5,-6.12 314.5,-6.12 314.5,-6.12 411.5,-6.12 411.5,-6.12 417.5,-6.12 423.5,-12.12 423.5,-18.12 423.5,-18.12 423.5,-53.88 423.5,-53.88 423.5,-59.88 417.5,-65.88 411.5,-65.88\"/>\n",
       "<text text-anchor=\"start\" x=\"324\" y=\"-48.58\" font-family=\"Helvetica,sans-Serif\" font-size=\"14.00\">gini = 0.41</text>\n",
       "<text text-anchor=\"start\" x=\"314.62\" y=\"-31.32\" font-family=\"Helvetica,sans-Serif\" font-size=\"14.00\">samples = 21</text>\n",
       "<text text-anchor=\"start\" x=\"310.5\" y=\"-14.07\" font-family=\"Helvetica,sans-Serif\" font-size=\"14.00\">value = [6, 15]</text>\n",
       "</g>\n",
       "<!-- 2&#45;&gt;5 -->\n",
       "<g id=\"edge5\" class=\"edge\">\n",
       "<title>2&#45;&gt;5</title>\n",
       "<path fill=\"none\" stroke=\"black\" d=\"M365.1,-125.2C364.74,-110.18 364.33,-92.87 363.97,-77.59\"/>\n",
       "<polygon fill=\"black\" stroke=\"black\" points=\"367.47,-77.79 363.74,-67.88 360.47,-77.96 367.47,-77.79\"/>\n",
       "</g>\n",
       "<!-- 6 -->\n",
       "<g id=\"node7\" class=\"node\">\n",
       "<title>6</title>\n",
       "<path fill=\"#ea995f\" stroke=\"black\" d=\"M568.5,-65.88C568.5,-65.88 453.5,-65.88 453.5,-65.88 447.5,-65.88 441.5,-59.88 441.5,-53.88 441.5,-53.88 441.5,-18.12 441.5,-18.12 441.5,-12.12 447.5,-6.12 453.5,-6.12 453.5,-6.12 568.5,-6.12 568.5,-6.12 574.5,-6.12 580.5,-12.12 580.5,-18.12 580.5,-18.12 580.5,-53.88 580.5,-53.88 580.5,-59.88 574.5,-65.88 568.5,-65.88\"/>\n",
       "<text text-anchor=\"start\" x=\"472\" y=\"-48.58\" font-family=\"Helvetica,sans-Serif\" font-size=\"14.00\">gini = 0.27</text>\n",
       "<text text-anchor=\"start\" x=\"458.12\" y=\"-31.32\" font-family=\"Helvetica,sans-Serif\" font-size=\"14.00\">samples = 418</text>\n",
       "<text text-anchor=\"start\" x=\"449.5\" y=\"-14.07\" font-family=\"Helvetica,sans-Serif\" font-size=\"14.00\">value = [350, 68]</text>\n",
       "</g>\n",
       "<!-- 2&#45;&gt;6 -->\n",
       "<g id=\"edge6\" class=\"edge\">\n",
       "<title>2&#45;&gt;6</title>\n",
       "<path fill=\"none\" stroke=\"black\" d=\"M409.5,-125.2C428.23,-108.93 450.04,-89.97 468.64,-73.81\"/>\n",
       "<polygon fill=\"black\" stroke=\"black\" points=\"470.81,-76.56 476.06,-67.36 466.22,-71.28 470.81,-76.56\"/>\n",
       "</g>\n",
       "</g>\n",
       "</svg>\n"
      ],
      "text/plain": [
       "<graphviz.sources.Source at 0x79d20c88f740>"
      ]
     },
     "execution_count": 83,
     "metadata": {},
     "output_type": "execute_result"
    }
   ],
   "source": [
    "draw_tree(m, trn_xs, size=10)"
   ]
  },
  {
   "cell_type": "markdown",
   "id": "227b4580",
   "metadata": {
    "papermill": {
     "duration": 0.088127,
     "end_time": "2022-05-23T23:52:18.559846",
     "exception": false,
     "start_time": "2022-05-23T23:52:18.471719",
     "status": "completed"
    },
    "tags": []
   },
   "source": [
    "We can see that it's found exactly the same splits as we did!\n",
    "\n",
    "In this picture, the more orange nodes have a lower survival rate, and blue have higher survival. Each node shows how many rows (\"*samples*\") match that set of rules, and shows how many perish or survive (\"*values*\"). There's also something called \"*gini*\". That's another measure of impurity, and it's very similar to the `score()` we created earlier. It's defined as follows:"
   ]
  },
  {
   "cell_type": "code",
   "execution_count": 84,
   "id": "2fa894c2",
   "metadata": {
    "execution": {
     "iopub.execute_input": "2022-05-23T23:52:18.752681Z",
     "iopub.status.busy": "2022-05-23T23:52:18.751920Z",
     "iopub.status.idle": "2022-05-23T23:52:18.758546Z",
     "shell.execute_reply": "2022-05-23T23:52:18.757602Z"
    },
    "papermill": {
     "duration": 0.097829,
     "end_time": "2022-05-23T23:52:18.760992",
     "exception": false,
     "start_time": "2022-05-23T23:52:18.663163",
     "status": "completed"
    },
    "tags": []
   },
   "outputs": [],
   "source": [
    "def gini(cond):\n",
    "    act = df.loc[cond, dep]\n",
    "    return 1 - act.mean()**2 - (1-act).mean()**2"
   ]
  },
  {
   "cell_type": "markdown",
   "id": "7dfd7abc",
   "metadata": {
    "papermill": {
     "duration": 0.084105,
     "end_time": "2022-05-23T23:52:18.931050",
     "exception": false,
     "start_time": "2022-05-23T23:52:18.846945",
     "status": "completed"
    },
    "tags": []
   },
   "source": [
    "What this calculates is the probability that, if you pick two rows from a group, you'll get the same `Survived` result each time. If the group is all the same, the probability is `1.0`, and `0.0` if they're all different:"
   ]
  },
  {
   "cell_type": "code",
   "execution_count": 85,
   "id": "4dc6dc0d",
   "metadata": {
    "execution": {
     "iopub.execute_input": "2022-05-23T23:52:19.104861Z",
     "iopub.status.busy": "2022-05-23T23:52:19.104134Z",
     "iopub.status.idle": "2022-05-23T23:52:19.116417Z",
     "shell.execute_reply": "2022-05-23T23:52:19.115262Z"
    },
    "papermill": {
     "duration": 0.103004,
     "end_time": "2022-05-23T23:52:19.118690",
     "exception": false,
     "start_time": "2022-05-23T23:52:19.015686",
     "status": "completed"
    },
    "tags": []
   },
   "outputs": [
    {
     "data": {
      "text/plain": [
       "(0.3828350034484158, 0.3064437162277842)"
      ]
     },
     "execution_count": 85,
     "metadata": {},
     "output_type": "execute_result"
    }
   ],
   "source": [
    "gini(df.Sex=='female'), gini(df.Sex=='male')"
   ]
  },
  {
   "cell_type": "markdown",
   "id": "fd8824b5",
   "metadata": {
    "papermill": {
     "duration": 0.084331,
     "end_time": "2022-05-23T23:52:19.288293",
     "exception": false,
     "start_time": "2022-05-23T23:52:19.203962",
     "status": "completed"
    },
    "tags": []
   },
   "source": [
    "Let's see how this model compares to our OneR version:"
   ]
  },
  {
   "cell_type": "code",
   "execution_count": 86,
   "id": "176028cc",
   "metadata": {
    "execution": {
     "iopub.execute_input": "2022-05-23T23:52:19.457789Z",
     "iopub.status.busy": "2022-05-23T23:52:19.457491Z",
     "iopub.status.idle": "2022-05-23T23:52:19.466175Z",
     "shell.execute_reply": "2022-05-23T23:52:19.465462Z"
    },
    "papermill": {
     "duration": 0.095697,
     "end_time": "2022-05-23T23:52:19.468099",
     "exception": false,
     "start_time": "2022-05-23T23:52:19.372402",
     "status": "completed"
    },
    "tags": []
   },
   "outputs": [
    {
     "data": {
      "text/plain": [
       "0.2242152466367713"
      ]
     },
     "execution_count": 86,
     "metadata": {},
     "output_type": "execute_result"
    }
   ],
   "source": [
    "mean_absolute_error(val_y, m.predict(val_xs))"
   ]
  },
  {
   "cell_type": "markdown",
   "id": "a4ca0406",
   "metadata": {
    "papermill": {
     "duration": 0.083894,
     "end_time": "2022-05-23T23:52:19.636103",
     "exception": false,
     "start_time": "2022-05-23T23:52:19.552209",
     "status": "completed"
    },
    "tags": []
   },
   "source": [
    "It's a tiny bit worse. Since this is such a small dataset (we've only got around 200 rows in our validation set) this small difference isn't really meaningful. Perhaps we'll see better results if we create a bigger tree:"
   ]
  },
  {
   "cell_type": "code",
   "execution_count": 87,
   "id": "b81bfa65",
   "metadata": {
    "execution": {
     "iopub.execute_input": "2022-05-23T23:52:19.807239Z",
     "iopub.status.busy": "2022-05-23T23:52:19.806662Z",
     "iopub.status.idle": "2022-05-23T23:52:19.855092Z",
     "shell.execute_reply": "2022-05-23T23:52:19.854063Z"
    },
    "papermill": {
     "duration": 0.136732,
     "end_time": "2022-05-23T23:52:19.857341",
     "exception": false,
     "start_time": "2022-05-23T23:52:19.720609",
     "status": "completed"
    },
    "tags": []
   },
   "outputs": [
    {
     "data": {
      "image/svg+xml": [
       "<?xml version=\"1.0\" encoding=\"UTF-8\" standalone=\"no\"?>\n",
       "<!DOCTYPE svg PUBLIC \"-//W3C//DTD SVG 1.1//EN\"\n",
       " \"http://www.w3.org/Graphics/SVG/1.1/DTD/svg11.dtd\">\n",
       "<!-- Generated by graphviz version 12.2.1 (0)\n",
       " -->\n",
       "<!-- Title: Tree Pages: 1 -->\n",
       "<svg width=\"864pt\" height=\"521pt\"\n",
       " viewBox=\"0.00 0.00 864.00 520.63\" xmlns=\"http://www.w3.org/2000/svg\" xmlns:xlink=\"http://www.w3.org/1999/xlink\">\n",
       "<g id=\"graph0\" class=\"graph\" transform=\"scale(0.698135 0.698135) rotate(0) translate(4 741.75)\">\n",
       "<title>Tree</title>\n",
       "<polygon fill=\"white\" stroke=\"none\" points=\"-4,4 -4,-741.75 1233.58,-741.75 1233.58,4 -4,4\"/>\n",
       "<!-- 0 -->\n",
       "<g id=\"node1\" class=\"node\">\n",
       "<title>0</title>\n",
       "<path fill=\"#f5ceb2\" stroke=\"black\" d=\"M656.6,-737.5C656.6,-737.5 532.6,-737.5 532.6,-737.5 526.6,-737.5 520.6,-731.5 520.6,-725.5 520.6,-725.5 520.6,-672.5 520.6,-672.5 520.6,-666.5 526.6,-660.5 532.6,-660.5 532.6,-660.5 656.6,-660.5 656.6,-660.5 662.6,-660.5 668.6,-666.5 668.6,-672.5 668.6,-672.5 668.6,-725.5 668.6,-725.5 668.6,-731.5 662.6,-737.5 656.6,-737.5\"/>\n",
       "<text text-anchor=\"start\" x=\"560.1\" y=\"-720.2\" font-family=\"Helvetica,sans-Serif\" font-size=\"14.00\">Sex ≤ 0.5</text>\n",
       "<text text-anchor=\"start\" x=\"555.6\" y=\"-702.95\" font-family=\"Helvetica,sans-Serif\" font-size=\"14.00\">gini = 0.47</text>\n",
       "<text text-anchor=\"start\" x=\"541.72\" y=\"-685.7\" font-family=\"Helvetica,sans-Serif\" font-size=\"14.00\">samples = 668</text>\n",
       "<text text-anchor=\"start\" x=\"528.6\" y=\"-668.45\" font-family=\"Helvetica,sans-Serif\" font-size=\"14.00\">value = [415, 253]</text>\n",
       "</g>\n",
       "<!-- 1 -->\n",
       "<g id=\"node2\" class=\"node\">\n",
       "<title>1</title>\n",
       "<path fill=\"#7ebfee\" stroke=\"black\" d=\"M497.1,-624.5C497.1,-624.5 382.1,-624.5 382.1,-624.5 376.1,-624.5 370.1,-618.5 370.1,-612.5 370.1,-612.5 370.1,-559.5 370.1,-559.5 370.1,-553.5 376.1,-547.5 382.1,-547.5 382.1,-547.5 497.1,-547.5 497.1,-547.5 503.1,-547.5 509.1,-553.5 509.1,-559.5 509.1,-559.5 509.1,-612.5 509.1,-612.5 509.1,-618.5 503.1,-624.5 497.1,-624.5\"/>\n",
       "<text text-anchor=\"start\" x=\"396.47\" y=\"-607.2\" font-family=\"Helvetica,sans-Serif\" font-size=\"14.00\">Pclass ≤ 2.5</text>\n",
       "<text text-anchor=\"start\" x=\"400.6\" y=\"-589.95\" font-family=\"Helvetica,sans-Serif\" font-size=\"14.00\">gini = 0.38</text>\n",
       "<text text-anchor=\"start\" x=\"386.72\" y=\"-572.7\" font-family=\"Helvetica,sans-Serif\" font-size=\"14.00\">samples = 229</text>\n",
       "<text text-anchor=\"start\" x=\"378.1\" y=\"-555.45\" font-family=\"Helvetica,sans-Serif\" font-size=\"14.00\">value = [59, 170]</text>\n",
       "</g>\n",
       "<!-- 0&#45;&gt;1 -->\n",
       "<g id=\"edge1\" class=\"edge\">\n",
       "<title>0&#45;&gt;1</title>\n",
       "<path fill=\"none\" stroke=\"black\" d=\"M541.69,-660.11C528.79,-650.87 514.88,-640.91 501.6,-631.4\"/>\n",
       "<polygon fill=\"black\" stroke=\"black\" points=\"503.93,-628.76 493.76,-625.79 499.85,-634.46 503.93,-628.76\"/>\n",
       "<text text-anchor=\"middle\" x=\"496.61\" y=\"-644.9\" font-family=\"Helvetica,sans-Serif\" font-size=\"14.00\">True</text>\n",
       "</g>\n",
       "<!-- 8 -->\n",
       "<g id=\"node9\" class=\"node\">\n",
       "<title>8</title>\n",
       "<path fill=\"#eb9e67\" stroke=\"black\" d=\"M817.1,-624.5C817.1,-624.5 702.1,-624.5 702.1,-624.5 696.1,-624.5 690.1,-618.5 690.1,-612.5 690.1,-612.5 690.1,-559.5 690.1,-559.5 690.1,-553.5 696.1,-547.5 702.1,-547.5 702.1,-547.5 817.1,-547.5 817.1,-547.5 823.1,-547.5 829.1,-553.5 829.1,-559.5 829.1,-559.5 829.1,-612.5 829.1,-612.5 829.1,-618.5 823.1,-624.5 817.1,-624.5\"/>\n",
       "<text text-anchor=\"start\" x=\"706.72\" y=\"-607.2\" font-family=\"Helvetica,sans-Serif\" font-size=\"14.00\">LogFare ≤ 3.31</text>\n",
       "<text text-anchor=\"start\" x=\"720.6\" y=\"-589.95\" font-family=\"Helvetica,sans-Serif\" font-size=\"14.00\">gini = 0.31</text>\n",
       "<text text-anchor=\"start\" x=\"706.72\" y=\"-572.7\" font-family=\"Helvetica,sans-Serif\" font-size=\"14.00\">samples = 439</text>\n",
       "<text text-anchor=\"start\" x=\"698.1\" y=\"-555.45\" font-family=\"Helvetica,sans-Serif\" font-size=\"14.00\">value = [356, 83]</text>\n",
       "</g>\n",
       "<!-- 0&#45;&gt;8 -->\n",
       "<g id=\"edge8\" class=\"edge\">\n",
       "<title>0&#45;&gt;8</title>\n",
       "<path fill=\"none\" stroke=\"black\" d=\"M650.92,-660.11C664.78,-650.79 679.74,-640.72 694,-631.13\"/>\n",
       "<polygon fill=\"black\" stroke=\"black\" points=\"695.65,-634.24 701.99,-625.75 691.74,-628.43 695.65,-634.24\"/>\n",
       "<text text-anchor=\"middle\" x=\"698.45\" y=\"-644.77\" font-family=\"Helvetica,sans-Serif\" font-size=\"14.00\">False</text>\n",
       "</g>\n",
       "<!-- 2 -->\n",
       "<g id=\"node3\" class=\"node\">\n",
       "<title>2</title>\n",
       "<path fill=\"#40a0e6\" stroke=\"black\" d=\"M264.6,-511.5C264.6,-511.5 158.6,-511.5 158.6,-511.5 152.6,-511.5 146.6,-505.5 146.6,-499.5 146.6,-499.5 146.6,-446.5 146.6,-446.5 146.6,-440.5 152.6,-434.5 158.6,-434.5 158.6,-434.5 264.6,-434.5 264.6,-434.5 270.6,-434.5 276.6,-440.5 276.6,-446.5 276.6,-446.5 276.6,-499.5 276.6,-499.5 276.6,-505.5 270.6,-511.5 264.6,-511.5\"/>\n",
       "<text text-anchor=\"start\" x=\"171.85\" y=\"-494.2\" font-family=\"Helvetica,sans-Serif\" font-size=\"14.00\">Age ≤ 28.5</text>\n",
       "<text text-anchor=\"start\" x=\"172.6\" y=\"-476.95\" font-family=\"Helvetica,sans-Serif\" font-size=\"14.00\">gini = 0.06</text>\n",
       "<text text-anchor=\"start\" x=\"158.72\" y=\"-459.7\" font-family=\"Helvetica,sans-Serif\" font-size=\"14.00\">samples = 120</text>\n",
       "<text text-anchor=\"start\" x=\"154.6\" y=\"-442.45\" font-family=\"Helvetica,sans-Serif\" font-size=\"14.00\">value = [4, 116]</text>\n",
       "</g>\n",
       "<!-- 1&#45;&gt;2 -->\n",
       "<g id=\"edge2\" class=\"edge\">\n",
       "<title>1&#45;&gt;2</title>\n",
       "<path fill=\"none\" stroke=\"black\" d=\"M369.64,-550.94C343.41,-538.17 313.5,-523.61 286.81,-510.62\"/>\n",
       "<polygon fill=\"black\" stroke=\"black\" points=\"288.64,-507.61 278.11,-506.38 285.57,-513.91 288.64,-507.61\"/>\n",
       "</g>\n",
       "<!-- 5 -->\n",
       "<g id=\"node6\" class=\"node\">\n",
       "<title>5</title>\n",
       "<path fill=\"#fffdfb\" stroke=\"black\" d=\"M492.6,-511.5C492.6,-511.5 386.6,-511.5 386.6,-511.5 380.6,-511.5 374.6,-505.5 374.6,-499.5 374.6,-499.5 374.6,-446.5 374.6,-446.5 374.6,-440.5 380.6,-434.5 386.6,-434.5 386.6,-434.5 492.6,-434.5 492.6,-434.5 498.6,-434.5 504.6,-440.5 504.6,-446.5 504.6,-446.5 504.6,-499.5 504.6,-499.5 504.6,-505.5 498.6,-511.5 492.6,-511.5\"/>\n",
       "<text text-anchor=\"start\" x=\"391.22\" y=\"-494.2\" font-family=\"Helvetica,sans-Serif\" font-size=\"14.00\">LogFare ≤ 2.7</text>\n",
       "<text text-anchor=\"start\" x=\"405.1\" y=\"-476.95\" font-family=\"Helvetica,sans-Serif\" font-size=\"14.00\">gini = 0.5</text>\n",
       "<text text-anchor=\"start\" x=\"386.72\" y=\"-459.7\" font-family=\"Helvetica,sans-Serif\" font-size=\"14.00\">samples = 109</text>\n",
       "<text text-anchor=\"start\" x=\"382.6\" y=\"-442.45\" font-family=\"Helvetica,sans-Serif\" font-size=\"14.00\">value = [55, 54]</text>\n",
       "</g>\n",
       "<!-- 1&#45;&gt;5 -->\n",
       "<g id=\"edge5\" class=\"edge\">\n",
       "<title>1&#45;&gt;5</title>\n",
       "<path fill=\"none\" stroke=\"black\" d=\"M439.6,-547.11C439.6,-539.34 439.6,-531.06 439.6,-522.96\"/>\n",
       "<polygon fill=\"black\" stroke=\"black\" points=\"443.1,-523.23 439.6,-513.23 436.1,-523.23 443.1,-523.23\"/>\n",
       "</g>\n",
       "<!-- 3 -->\n",
       "<g id=\"node4\" class=\"node\">\n",
       "<title>3</title>\n",
       "<path fill=\"#45a3e7\" stroke=\"black\" d=\"M113.1,-389.88C113.1,-389.88 16.1,-389.88 16.1,-389.88 10.1,-389.88 4.1,-383.88 4.1,-377.88 4.1,-377.88 4.1,-342.12 4.1,-342.12 4.1,-336.12 10.1,-330.12 16.1,-330.12 16.1,-330.12 113.1,-330.12 113.1,-330.12 119.1,-330.12 125.1,-336.12 125.1,-342.12 125.1,-342.12 125.1,-377.88 125.1,-377.88 125.1,-383.88 119.1,-389.88 113.1,-389.88\"/>\n",
       "<text text-anchor=\"start\" x=\"25.6\" y=\"-372.57\" font-family=\"Helvetica,sans-Serif\" font-size=\"14.00\">gini = 0.11</text>\n",
       "<text text-anchor=\"start\" x=\"16.22\" y=\"-355.32\" font-family=\"Helvetica,sans-Serif\" font-size=\"14.00\">samples = 53</text>\n",
       "<text text-anchor=\"start\" x=\"12.1\" y=\"-338.07\" font-family=\"Helvetica,sans-Serif\" font-size=\"14.00\">value = [3, 50]</text>\n",
       "</g>\n",
       "<!-- 2&#45;&gt;3 -->\n",
       "<g id=\"edge3\" class=\"edge\">\n",
       "<title>2&#45;&gt;3</title>\n",
       "<path fill=\"none\" stroke=\"black\" d=\"M161.42,-434.11C145.57,-422.14 128.1,-408.95 112.42,-397.11\"/>\n",
       "<polygon fill=\"black\" stroke=\"black\" points=\"114.71,-394.46 104.62,-391.22 110.49,-400.04 114.71,-394.46\"/>\n",
       "</g>\n",
       "<!-- 4 -->\n",
       "<g id=\"node5\" class=\"node\">\n",
       "<title>4</title>\n",
       "<path fill=\"#3c9ee5\" stroke=\"black\" d=\"M260.1,-389.88C260.1,-389.88 163.1,-389.88 163.1,-389.88 157.1,-389.88 151.1,-383.88 151.1,-377.88 151.1,-377.88 151.1,-342.12 151.1,-342.12 151.1,-336.12 157.1,-330.12 163.1,-330.12 163.1,-330.12 260.1,-330.12 260.1,-330.12 266.1,-330.12 272.1,-336.12 272.1,-342.12 272.1,-342.12 272.1,-377.88 272.1,-377.88 272.1,-383.88 266.1,-389.88 260.1,-389.88\"/>\n",
       "<text text-anchor=\"start\" x=\"172.6\" y=\"-372.57\" font-family=\"Helvetica,sans-Serif\" font-size=\"14.00\">gini = 0.03</text>\n",
       "<text text-anchor=\"start\" x=\"163.22\" y=\"-355.32\" font-family=\"Helvetica,sans-Serif\" font-size=\"14.00\">samples = 67</text>\n",
       "<text text-anchor=\"start\" x=\"159.1\" y=\"-338.07\" font-family=\"Helvetica,sans-Serif\" font-size=\"14.00\">value = [1, 66]</text>\n",
       "</g>\n",
       "<!-- 2&#45;&gt;4 -->\n",
       "<g id=\"edge4\" class=\"edge\">\n",
       "<title>2&#45;&gt;4</title>\n",
       "<path fill=\"none\" stroke=\"black\" d=\"M211.6,-434.11C211.6,-423.71 211.6,-412.38 211.6,-401.82\"/>\n",
       "<polygon fill=\"black\" stroke=\"black\" points=\"215.1,-401.82 211.6,-391.82 208.1,-401.82 215.1,-401.82\"/>\n",
       "</g>\n",
       "<!-- 6 -->\n",
       "<g id=\"node7\" class=\"node\">\n",
       "<title>6</title>\n",
       "<path fill=\"#cbe5f8\" stroke=\"black\" d=\"M417.6,-389.88C417.6,-389.88 311.6,-389.88 311.6,-389.88 305.6,-389.88 299.6,-383.88 299.6,-377.88 299.6,-377.88 299.6,-342.12 299.6,-342.12 299.6,-336.12 305.6,-330.12 311.6,-330.12 311.6,-330.12 417.6,-330.12 417.6,-330.12 423.6,-330.12 429.6,-336.12 429.6,-342.12 429.6,-342.12 429.6,-377.88 429.6,-377.88 429.6,-383.88 423.6,-389.88 417.6,-389.88\"/>\n",
       "<text text-anchor=\"start\" x=\"325.6\" y=\"-372.57\" font-family=\"Helvetica,sans-Serif\" font-size=\"14.00\">gini = 0.49</text>\n",
       "<text text-anchor=\"start\" x=\"316.22\" y=\"-355.32\" font-family=\"Helvetica,sans-Serif\" font-size=\"14.00\">samples = 59</text>\n",
       "<text text-anchor=\"start\" x=\"307.6\" y=\"-338.07\" font-family=\"Helvetica,sans-Serif\" font-size=\"14.00\">value = [25, 34]</text>\n",
       "</g>\n",
       "<!-- 5&#45;&gt;6 -->\n",
       "<g id=\"edge6\" class=\"edge\">\n",
       "<title>5&#45;&gt;6</title>\n",
       "<path fill=\"none\" stroke=\"black\" d=\"M414,-434.11C406.51,-423.04 398.32,-410.92 390.8,-399.79\"/>\n",
       "<polygon fill=\"black\" stroke=\"black\" points=\"393.75,-397.89 385.25,-391.57 387.95,-401.81 393.75,-397.89\"/>\n",
       "</g>\n",
       "<!-- 7 -->\n",
       "<g id=\"node8\" class=\"node\">\n",
       "<title>7</title>\n",
       "<path fill=\"#f6d5bd\" stroke=\"black\" d=\"M574.6,-389.88C574.6,-389.88 468.6,-389.88 468.6,-389.88 462.6,-389.88 456.6,-383.88 456.6,-377.88 456.6,-377.88 456.6,-342.12 456.6,-342.12 456.6,-336.12 462.6,-330.12 468.6,-330.12 468.6,-330.12 574.6,-330.12 574.6,-330.12 580.6,-330.12 586.6,-336.12 586.6,-342.12 586.6,-342.12 586.6,-377.88 586.6,-377.88 586.6,-383.88 580.6,-389.88 574.6,-389.88\"/>\n",
       "<text text-anchor=\"start\" x=\"482.6\" y=\"-372.57\" font-family=\"Helvetica,sans-Serif\" font-size=\"14.00\">gini = 0.48</text>\n",
       "<text text-anchor=\"start\" x=\"473.22\" y=\"-355.32\" font-family=\"Helvetica,sans-Serif\" font-size=\"14.00\">samples = 50</text>\n",
       "<text text-anchor=\"start\" x=\"464.6\" y=\"-338.07\" font-family=\"Helvetica,sans-Serif\" font-size=\"14.00\">value = [30, 20]</text>\n",
       "</g>\n",
       "<!-- 5&#45;&gt;7 -->\n",
       "<g id=\"edge7\" class=\"edge\">\n",
       "<title>5&#45;&gt;7</title>\n",
       "<path fill=\"none\" stroke=\"black\" d=\"M467.59,-434.11C475.85,-422.92 484.9,-410.67 493.19,-399.45\"/>\n",
       "<polygon fill=\"black\" stroke=\"black\" points=\"495.92,-401.65 499.04,-391.53 490.29,-397.49 495.92,-401.65\"/>\n",
       "</g>\n",
       "<!-- 9 -->\n",
       "<g id=\"node10\" class=\"node\">\n",
       "<title>9</title>\n",
       "<path fill=\"#e99659\" stroke=\"black\" d=\"M817.1,-511.5C817.1,-511.5 702.1,-511.5 702.1,-511.5 696.1,-511.5 690.1,-505.5 690.1,-499.5 690.1,-499.5 690.1,-446.5 690.1,-446.5 690.1,-440.5 696.1,-434.5 702.1,-434.5 702.1,-434.5 817.1,-434.5 817.1,-434.5 823.1,-434.5 829.1,-440.5 829.1,-446.5 829.1,-446.5 829.1,-499.5 829.1,-499.5 829.1,-505.5 823.1,-511.5 817.1,-511.5\"/>\n",
       "<text text-anchor=\"start\" x=\"719.85\" y=\"-494.2\" font-family=\"Helvetica,sans-Serif\" font-size=\"14.00\">Age ≤ 20.5</text>\n",
       "<text text-anchor=\"start\" x=\"720.6\" y=\"-476.95\" font-family=\"Helvetica,sans-Serif\" font-size=\"14.00\">gini = 0.24</text>\n",
       "<text text-anchor=\"start\" x=\"706.72\" y=\"-459.7\" font-family=\"Helvetica,sans-Serif\" font-size=\"14.00\">samples = 320</text>\n",
       "<text text-anchor=\"start\" x=\"698.1\" y=\"-442.45\" font-family=\"Helvetica,sans-Serif\" font-size=\"14.00\">value = [275, 45]</text>\n",
       "</g>\n",
       "<!-- 8&#45;&gt;9 -->\n",
       "<g id=\"edge9\" class=\"edge\">\n",
       "<title>8&#45;&gt;9</title>\n",
       "<path fill=\"none\" stroke=\"black\" d=\"M759.6,-547.11C759.6,-539.34 759.6,-531.06 759.6,-522.96\"/>\n",
       "<polygon fill=\"black\" stroke=\"black\" points=\"763.1,-523.23 759.6,-513.23 756.1,-523.23 763.1,-523.23\"/>\n",
       "</g>\n",
       "<!-- 18 -->\n",
       "<g id=\"node19\" class=\"node\">\n",
       "<title>18</title>\n",
       "<path fill=\"#f1bc96\" stroke=\"black\" d=\"M1056.6,-511.5C1056.6,-511.5 950.6,-511.5 950.6,-511.5 944.6,-511.5 938.6,-505.5 938.6,-499.5 938.6,-499.5 938.6,-446.5 938.6,-446.5 938.6,-440.5 944.6,-434.5 950.6,-434.5 950.6,-434.5 1056.6,-434.5 1056.6,-434.5 1062.6,-434.5 1068.6,-440.5 1068.6,-446.5 1068.6,-446.5 1068.6,-499.5 1068.6,-499.5 1068.6,-505.5 1062.6,-511.5 1056.6,-511.5\"/>\n",
       "<text text-anchor=\"start\" x=\"961.97\" y=\"-494.2\" font-family=\"Helvetica,sans-Serif\" font-size=\"14.00\">SibSp ≤ 0.5</text>\n",
       "<text text-anchor=\"start\" x=\"964.6\" y=\"-476.95\" font-family=\"Helvetica,sans-Serif\" font-size=\"14.00\">gini = 0.43</text>\n",
       "<text text-anchor=\"start\" x=\"950.72\" y=\"-459.7\" font-family=\"Helvetica,sans-Serif\" font-size=\"14.00\">samples = 119</text>\n",
       "<text text-anchor=\"start\" x=\"946.6\" y=\"-442.45\" font-family=\"Helvetica,sans-Serif\" font-size=\"14.00\">value = [81, 38]</text>\n",
       "</g>\n",
       "<!-- 8&#45;&gt;18 -->\n",
       "<g id=\"edge18\" class=\"edge\">\n",
       "<title>8&#45;&gt;18</title>\n",
       "<path fill=\"none\" stroke=\"black\" d=\"M829.52,-553.19C860.26,-539.21 896.44,-522.75 927.82,-508.47\"/>\n",
       "<polygon fill=\"black\" stroke=\"black\" points=\"929.24,-511.67 936.89,-504.34 926.34,-505.3 929.24,-511.67\"/>\n",
       "</g>\n",
       "<!-- 10 -->\n",
       "<g id=\"node11\" class=\"node\">\n",
       "<title>10</title>\n",
       "<path fill=\"#f1b992\" stroke=\"black\" d=\"M731.6,-389.88C731.6,-389.88 625.6,-389.88 625.6,-389.88 619.6,-389.88 613.6,-383.88 613.6,-377.88 613.6,-377.88 613.6,-342.12 613.6,-342.12 613.6,-336.12 619.6,-330.12 625.6,-330.12 625.6,-330.12 731.6,-330.12 731.6,-330.12 737.6,-330.12 743.6,-336.12 743.6,-342.12 743.6,-342.12 743.6,-377.88 743.6,-377.88 743.6,-383.88 737.6,-389.88 731.6,-389.88\"/>\n",
       "<text text-anchor=\"start\" x=\"639.6\" y=\"-372.57\" font-family=\"Helvetica,sans-Serif\" font-size=\"14.00\">gini = 0.43</text>\n",
       "<text text-anchor=\"start\" x=\"630.22\" y=\"-355.32\" font-family=\"Helvetica,sans-Serif\" font-size=\"14.00\">samples = 55</text>\n",
       "<text text-anchor=\"start\" x=\"621.6\" y=\"-338.07\" font-family=\"Helvetica,sans-Serif\" font-size=\"14.00\">value = [38, 17]</text>\n",
       "</g>\n",
       "<!-- 9&#45;&gt;10 -->\n",
       "<g id=\"edge10\" class=\"edge\">\n",
       "<title>9&#45;&gt;10</title>\n",
       "<path fill=\"none\" stroke=\"black\" d=\"M731.95,-434.11C723.78,-422.92 714.84,-410.67 706.65,-399.45\"/>\n",
       "<polygon fill=\"black\" stroke=\"black\" points=\"709.6,-397.55 700.88,-391.53 703.95,-401.68 709.6,-397.55\"/>\n",
       "</g>\n",
       "<!-- 11 -->\n",
       "<g id=\"node12\" class=\"node\">\n",
       "<title>11</title>\n",
       "<path fill=\"#e89050\" stroke=\"black\" d=\"M899.1,-398.5C899.1,-398.5 784.1,-398.5 784.1,-398.5 778.1,-398.5 772.1,-392.5 772.1,-386.5 772.1,-386.5 772.1,-333.5 772.1,-333.5 772.1,-327.5 778.1,-321.5 784.1,-321.5 784.1,-321.5 899.1,-321.5 899.1,-321.5 905.1,-321.5 911.1,-327.5 911.1,-333.5 911.1,-333.5 911.1,-386.5 911.1,-386.5 911.1,-392.5 905.1,-398.5 899.1,-398.5\"/>\n",
       "<text text-anchor=\"start\" x=\"801.85\" y=\"-381.2\" font-family=\"Helvetica,sans-Serif\" font-size=\"14.00\">Age ≤ 32.5</text>\n",
       "<text text-anchor=\"start\" x=\"802.6\" y=\"-363.95\" font-family=\"Helvetica,sans-Serif\" font-size=\"14.00\">gini = 0.19</text>\n",
       "<text text-anchor=\"start\" x=\"788.72\" y=\"-346.7\" font-family=\"Helvetica,sans-Serif\" font-size=\"14.00\">samples = 265</text>\n",
       "<text text-anchor=\"start\" x=\"780.1\" y=\"-329.45\" font-family=\"Helvetica,sans-Serif\" font-size=\"14.00\">value = [237, 28]</text>\n",
       "</g>\n",
       "<!-- 9&#45;&gt;11 -->\n",
       "<g id=\"edge11\" class=\"edge\">\n",
       "<title>9&#45;&gt;11</title>\n",
       "<path fill=\"none\" stroke=\"black\" d=\"M787.59,-434.11C793.85,-425.63 800.57,-416.53 807.07,-407.74\"/>\n",
       "<polygon fill=\"black\" stroke=\"black\" points=\"809.71,-410.06 812.83,-399.94 804.08,-405.9 809.71,-410.06\"/>\n",
       "</g>\n",
       "<!-- 12 -->\n",
       "<g id=\"node13\" class=\"node\">\n",
       "<title>12</title>\n",
       "<path fill=\"#e99356\" stroke=\"black\" d=\"M820.1,-285.5C820.1,-285.5 705.1,-285.5 705.1,-285.5 699.1,-285.5 693.1,-279.5 693.1,-273.5 693.1,-273.5 693.1,-220.5 693.1,-220.5 693.1,-214.5 699.1,-208.5 705.1,-208.5 705.1,-208.5 820.1,-208.5 820.1,-208.5 826.1,-208.5 832.1,-214.5 832.1,-220.5 832.1,-220.5 832.1,-273.5 832.1,-273.5 832.1,-279.5 826.1,-285.5 820.1,-285.5\"/>\n",
       "<text text-anchor=\"start\" x=\"718.35\" y=\"-268.2\" font-family=\"Helvetica,sans-Serif\" font-size=\"14.00\">Age ≤ 24.75</text>\n",
       "<text text-anchor=\"start\" x=\"723.6\" y=\"-250.95\" font-family=\"Helvetica,sans-Serif\" font-size=\"14.00\">gini = 0.22</text>\n",
       "<text text-anchor=\"start\" x=\"709.72\" y=\"-233.7\" font-family=\"Helvetica,sans-Serif\" font-size=\"14.00\">samples = 181</text>\n",
       "<text text-anchor=\"start\" x=\"701.1\" y=\"-216.45\" font-family=\"Helvetica,sans-Serif\" font-size=\"14.00\">value = [158, 23]</text>\n",
       "</g>\n",
       "<!-- 11&#45;&gt;12 -->\n",
       "<g id=\"edge12\" class=\"edge\">\n",
       "<title>11&#45;&gt;12</title>\n",
       "<path fill=\"none\" stroke=\"black\" d=\"M814.63,-321.11C808.66,-312.72 802.25,-303.72 796.06,-295.01\"/>\n",
       "<polygon fill=\"black\" stroke=\"black\" points=\"798.97,-293.07 790.32,-286.95 793.27,-297.13 798.97,-293.07\"/>\n",
       "</g>\n",
       "<!-- 17 -->\n",
       "<g id=\"node18\" class=\"node\">\n",
       "<title>17</title>\n",
       "<path fill=\"#e78946\" stroke=\"black\" d=\"M968.1,-276.88C968.1,-276.88 871.1,-276.88 871.1,-276.88 865.1,-276.88 859.1,-270.88 859.1,-264.88 859.1,-264.88 859.1,-229.12 859.1,-229.12 859.1,-223.12 865.1,-217.12 871.1,-217.12 871.1,-217.12 968.1,-217.12 968.1,-217.12 974.1,-217.12 980.1,-223.12 980.1,-229.12 980.1,-229.12 980.1,-264.88 980.1,-264.88 980.1,-270.88 974.1,-276.88 968.1,-276.88\"/>\n",
       "<text text-anchor=\"start\" x=\"880.6\" y=\"-259.57\" font-family=\"Helvetica,sans-Serif\" font-size=\"14.00\">gini = 0.11</text>\n",
       "<text text-anchor=\"start\" x=\"871.22\" y=\"-242.32\" font-family=\"Helvetica,sans-Serif\" font-size=\"14.00\">samples = 84</text>\n",
       "<text text-anchor=\"start\" x=\"867.1\" y=\"-225.07\" font-family=\"Helvetica,sans-Serif\" font-size=\"14.00\">value = [79, 5]</text>\n",
       "</g>\n",
       "<!-- 11&#45;&gt;17 -->\n",
       "<g id=\"edge17\" class=\"edge\">\n",
       "<title>11&#45;&gt;17</title>\n",
       "<path fill=\"none\" stroke=\"black\" d=\"M868.22,-321.11C876.08,-309.92 884.69,-297.67 892.58,-286.45\"/>\n",
       "<polygon fill=\"black\" stroke=\"black\" points=\"895.24,-288.74 898.13,-278.55 889.52,-284.72 895.24,-288.74\"/>\n",
       "</g>\n",
       "<!-- 13 -->\n",
       "<g id=\"node14\" class=\"node\">\n",
       "<title>13</title>\n",
       "<path fill=\"#e88d4c\" stroke=\"black\" d=\"M739.1,-172.5C739.1,-172.5 624.1,-172.5 624.1,-172.5 618.1,-172.5 612.1,-166.5 612.1,-160.5 612.1,-160.5 612.1,-107.5 612.1,-107.5 612.1,-101.5 618.1,-95.5 624.1,-95.5 624.1,-95.5 739.1,-95.5 739.1,-95.5 745.1,-95.5 751.1,-101.5 751.1,-107.5 751.1,-107.5 751.1,-160.5 751.1,-160.5 751.1,-166.5 745.1,-172.5 739.1,-172.5\"/>\n",
       "<text text-anchor=\"start\" x=\"628.72\" y=\"-155.2\" font-family=\"Helvetica,sans-Serif\" font-size=\"14.00\">LogFare ≤ 2.18</text>\n",
       "<text text-anchor=\"start\" x=\"642.6\" y=\"-137.95\" font-family=\"Helvetica,sans-Serif\" font-size=\"14.00\">gini = 0.16</text>\n",
       "<text text-anchor=\"start\" x=\"628.72\" y=\"-120.7\" font-family=\"Helvetica,sans-Serif\" font-size=\"14.00\">samples = 114</text>\n",
       "<text text-anchor=\"start\" x=\"620.1\" y=\"-103.45\" font-family=\"Helvetica,sans-Serif\" font-size=\"14.00\">value = [104, 10]</text>\n",
       "</g>\n",
       "<!-- 12&#45;&gt;13 -->\n",
       "<g id=\"edge13\" class=\"edge\">\n",
       "<title>12&#45;&gt;13</title>\n",
       "<path fill=\"none\" stroke=\"black\" d=\"M734.95,-208.11C728.82,-199.72 722.26,-190.72 715.9,-182.01\"/>\n",
       "<polygon fill=\"black\" stroke=\"black\" points=\"718.73,-179.96 710.01,-173.94 713.08,-184.08 718.73,-179.96\"/>\n",
       "</g>\n",
       "<!-- 16 -->\n",
       "<g id=\"node17\" class=\"node\">\n",
       "<title>16</title>\n",
       "<path fill=\"#eb9f69\" stroke=\"black\" d=\"M897.6,-163.88C897.6,-163.88 791.6,-163.88 791.6,-163.88 785.6,-163.88 779.6,-157.88 779.6,-151.88 779.6,-151.88 779.6,-116.12 779.6,-116.12 779.6,-110.12 785.6,-104.12 791.6,-104.12 791.6,-104.12 897.6,-104.12 897.6,-104.12 903.6,-104.12 909.6,-110.12 909.6,-116.12 909.6,-116.12 909.6,-151.88 909.6,-151.88 909.6,-157.88 903.6,-163.88 897.6,-163.88\"/>\n",
       "<text text-anchor=\"start\" x=\"805.6\" y=\"-146.57\" font-family=\"Helvetica,sans-Serif\" font-size=\"14.00\">gini = 0.31</text>\n",
       "<text text-anchor=\"start\" x=\"796.22\" y=\"-129.32\" font-family=\"Helvetica,sans-Serif\" font-size=\"14.00\">samples = 67</text>\n",
       "<text text-anchor=\"start\" x=\"787.6\" y=\"-112.08\" font-family=\"Helvetica,sans-Serif\" font-size=\"14.00\">value = [54, 13]</text>\n",
       "</g>\n",
       "<!-- 12&#45;&gt;16 -->\n",
       "<g id=\"edge16\" class=\"edge\">\n",
       "<title>12&#45;&gt;16</title>\n",
       "<path fill=\"none\" stroke=\"black\" d=\"M790.59,-208.11C798.85,-196.92 807.9,-184.67 816.19,-173.45\"/>\n",
       "<polygon fill=\"black\" stroke=\"black\" points=\"818.92,-175.65 822.04,-165.53 813.29,-171.49 818.92,-175.65\"/>\n",
       "</g>\n",
       "<!-- 14 -->\n",
       "<g id=\"node15\" class=\"node\">\n",
       "<title>14</title>\n",
       "<path fill=\"#e99254\" stroke=\"black\" d=\"M657.1,-59.88C657.1,-59.88 560.1,-59.88 560.1,-59.88 554.1,-59.88 548.1,-53.88 548.1,-47.88 548.1,-47.88 548.1,-12.12 548.1,-12.12 548.1,-6.12 554.1,-0.12 560.1,-0.12 560.1,-0.12 657.1,-0.12 657.1,-0.12 663.1,-0.12 669.1,-6.12 669.1,-12.12 669.1,-12.12 669.1,-47.88 669.1,-47.88 669.1,-53.88 663.1,-59.88 657.1,-59.88\"/>\n",
       "<text text-anchor=\"start\" x=\"569.6\" y=\"-42.58\" font-family=\"Helvetica,sans-Serif\" font-size=\"14.00\">gini = 0.21</text>\n",
       "<text text-anchor=\"start\" x=\"560.22\" y=\"-25.32\" font-family=\"Helvetica,sans-Serif\" font-size=\"14.00\">samples = 50</text>\n",
       "<text text-anchor=\"start\" x=\"556.1\" y=\"-8.07\" font-family=\"Helvetica,sans-Serif\" font-size=\"14.00\">value = [44, 6]</text>\n",
       "</g>\n",
       "<!-- 13&#45;&gt;14 -->\n",
       "<g id=\"edge14\" class=\"edge\">\n",
       "<title>13&#45;&gt;14</title>\n",
       "<path fill=\"none\" stroke=\"black\" d=\"M654.41,-95.02C648.41,-86.62 642.04,-77.72 636.02,-69.32\"/>\n",
       "<polygon fill=\"black\" stroke=\"black\" points=\"638.96,-67.41 630.29,-61.31 633.27,-71.48 638.96,-67.41\"/>\n",
       "</g>\n",
       "<!-- 15 -->\n",
       "<g id=\"node16\" class=\"node\">\n",
       "<title>15</title>\n",
       "<path fill=\"#e78946\" stroke=\"black\" d=\"M805.1,-59.88C805.1,-59.88 708.1,-59.88 708.1,-59.88 702.1,-59.88 696.1,-53.88 696.1,-47.88 696.1,-47.88 696.1,-12.12 696.1,-12.12 696.1,-6.12 702.1,-0.12 708.1,-0.12 708.1,-0.12 805.1,-0.12 805.1,-0.12 811.1,-0.12 817.1,-6.12 817.1,-12.12 817.1,-12.12 817.1,-47.88 817.1,-47.88 817.1,-53.88 811.1,-59.88 805.1,-59.88\"/>\n",
       "<text text-anchor=\"start\" x=\"717.6\" y=\"-42.58\" font-family=\"Helvetica,sans-Serif\" font-size=\"14.00\">gini = 0.12</text>\n",
       "<text text-anchor=\"start\" x=\"708.22\" y=\"-25.32\" font-family=\"Helvetica,sans-Serif\" font-size=\"14.00\">samples = 64</text>\n",
       "<text text-anchor=\"start\" x=\"704.1\" y=\"-8.07\" font-family=\"Helvetica,sans-Serif\" font-size=\"14.00\">value = [60, 4]</text>\n",
       "</g>\n",
       "<!-- 13&#45;&gt;15 -->\n",
       "<g id=\"edge15\" class=\"edge\">\n",
       "<title>13&#45;&gt;15</title>\n",
       "<path fill=\"none\" stroke=\"black\" d=\"M709.52,-95.02C715.7,-86.62 722.24,-77.72 728.42,-69.32\"/>\n",
       "<polygon fill=\"black\" stroke=\"black\" points=\"731.21,-71.43 734.31,-61.3 725.57,-67.29 731.21,-71.43\"/>\n",
       "</g>\n",
       "<!-- 19 -->\n",
       "<g id=\"node20\" class=\"node\">\n",
       "<title>19</title>\n",
       "<path fill=\"#f6d5bd\" stroke=\"black\" d=\"M1056.6,-389.88C1056.6,-389.88 950.6,-389.88 950.6,-389.88 944.6,-389.88 938.6,-383.88 938.6,-377.88 938.6,-377.88 938.6,-342.12 938.6,-342.12 938.6,-336.12 944.6,-330.12 950.6,-330.12 950.6,-330.12 1056.6,-330.12 1056.6,-330.12 1062.6,-330.12 1068.6,-336.12 1068.6,-342.12 1068.6,-342.12 1068.6,-377.88 1068.6,-377.88 1068.6,-383.88 1062.6,-389.88 1056.6,-389.88\"/>\n",
       "<text text-anchor=\"start\" x=\"964.6\" y=\"-372.57\" font-family=\"Helvetica,sans-Serif\" font-size=\"14.00\">gini = 0.48</text>\n",
       "<text text-anchor=\"start\" x=\"955.22\" y=\"-355.32\" font-family=\"Helvetica,sans-Serif\" font-size=\"14.00\">samples = 60</text>\n",
       "<text text-anchor=\"start\" x=\"946.6\" y=\"-338.07\" font-family=\"Helvetica,sans-Serif\" font-size=\"14.00\">value = [36, 24]</text>\n",
       "</g>\n",
       "<!-- 18&#45;&gt;19 -->\n",
       "<g id=\"edge19\" class=\"edge\">\n",
       "<title>18&#45;&gt;19</title>\n",
       "<path fill=\"none\" stroke=\"black\" d=\"M1003.6,-434.11C1003.6,-423.71 1003.6,-412.38 1003.6,-401.82\"/>\n",
       "<polygon fill=\"black\" stroke=\"black\" points=\"1007.1,-401.82 1003.6,-391.82 1000.1,-401.82 1007.1,-401.82\"/>\n",
       "</g>\n",
       "<!-- 20 -->\n",
       "<g id=\"node21\" class=\"node\">\n",
       "<title>20</title>\n",
       "<path fill=\"#eda877\" stroke=\"black\" d=\"M1213.6,-389.88C1213.6,-389.88 1107.6,-389.88 1107.6,-389.88 1101.6,-389.88 1095.6,-383.88 1095.6,-377.88 1095.6,-377.88 1095.6,-342.12 1095.6,-342.12 1095.6,-336.12 1101.6,-330.12 1107.6,-330.12 1107.6,-330.12 1213.6,-330.12 1213.6,-330.12 1219.6,-330.12 1225.6,-336.12 1225.6,-342.12 1225.6,-342.12 1225.6,-377.88 1225.6,-377.88 1225.6,-383.88 1219.6,-389.88 1213.6,-389.88\"/>\n",
       "<text text-anchor=\"start\" x=\"1121.6\" y=\"-372.57\" font-family=\"Helvetica,sans-Serif\" font-size=\"14.00\">gini = 0.36</text>\n",
       "<text text-anchor=\"start\" x=\"1112.22\" y=\"-355.32\" font-family=\"Helvetica,sans-Serif\" font-size=\"14.00\">samples = 59</text>\n",
       "<text text-anchor=\"start\" x=\"1103.6\" y=\"-338.07\" font-family=\"Helvetica,sans-Serif\" font-size=\"14.00\">value = [45, 14]</text>\n",
       "</g>\n",
       "<!-- 18&#45;&gt;20 -->\n",
       "<g id=\"edge20\" class=\"edge\">\n",
       "<title>18&#45;&gt;20</title>\n",
       "<path fill=\"none\" stroke=\"black\" d=\"M1057.19,-434.11C1074.28,-422.03 1093.12,-408.7 1109.99,-396.78\"/>\n",
       "<polygon fill=\"black\" stroke=\"black\" points=\"1111.76,-399.82 1117.9,-391.19 1107.72,-394.1 1111.76,-399.82\"/>\n",
       "</g>\n",
       "</g>\n",
       "</svg>\n"
      ],
      "text/plain": [
       "<graphviz.sources.Source at 0x79d1ee32f590>"
      ]
     },
     "execution_count": 87,
     "metadata": {},
     "output_type": "execute_result"
    }
   ],
   "source": [
    "m = DecisionTreeClassifier(min_samples_leaf=50)\n",
    "m.fit(trn_xs, trn_y)\n",
    "draw_tree(m, trn_xs, size=12)"
   ]
  },
  {
   "cell_type": "code",
   "execution_count": 88,
   "id": "5d82961e",
   "metadata": {
    "execution": {
     "iopub.execute_input": "2022-05-23T23:52:20.034875Z",
     "iopub.status.busy": "2022-05-23T23:52:20.034551Z",
     "iopub.status.idle": "2022-05-23T23:52:20.044976Z",
     "shell.execute_reply": "2022-05-23T23:52:20.044315Z"
    },
    "papermill": {
     "duration": 0.10291,
     "end_time": "2022-05-23T23:52:20.046905",
     "exception": false,
     "start_time": "2022-05-23T23:52:19.943995",
     "status": "completed"
    },
    "tags": []
   },
   "outputs": [
    {
     "data": {
      "text/plain": [
       "0.18385650224215247"
      ]
     },
     "execution_count": 88,
     "metadata": {},
     "output_type": "execute_result"
    }
   ],
   "source": [
    "mean_absolute_error(val_y, m.predict(val_xs))"
   ]
  },
  {
   "cell_type": "markdown",
   "id": "ccfb9c35",
   "metadata": {
    "papermill": {
     "duration": 0.085949,
     "end_time": "2022-05-23T23:52:20.220973",
     "exception": false,
     "start_time": "2022-05-23T23:52:20.135024",
     "status": "completed"
    },
    "tags": []
   },
   "source": [
    "It looks like this is an improvement, although again it's a bit hard to tell with small datasets like this. Let's try submitting it to Kaggle:"
   ]
  },
  {
   "cell_type": "code",
   "execution_count": 36,
   "id": "061feaf1",
   "metadata": {
    "execution": {
     "iopub.execute_input": "2022-05-23T23:52:20.396929Z",
     "iopub.status.busy": "2022-05-23T23:52:20.396607Z",
     "iopub.status.idle": "2022-05-23T23:52:20.418077Z",
     "shell.execute_reply": "2022-05-23T23:52:20.417266Z"
    },
    "papermill": {
     "duration": 0.112139,
     "end_time": "2022-05-23T23:52:20.420499",
     "exception": false,
     "start_time": "2022-05-23T23:52:20.308360",
     "status": "completed"
    },
    "tags": []
   },
   "outputs": [],
   "source": [
    "tst_df[cats] = tst_df[cats].apply(lambda x: x.cat.codes)\n",
    "tst_xs,_ = xs_y(tst_df)\n",
    "\n",
    "def subm(preds, suff):\n",
    "    tst_df['Survived'] = preds\n",
    "    sub_df = tst_df[['PassengerId','Survived']]\n",
    "    sub_df.to_csv(f'sub-{suff}.csv', index=False)\n",
    "\n",
    "subm(m.predict(tst_xs), 'tree')"
   ]
  },
  {
   "cell_type": "markdown",
   "id": "d66f526e",
   "metadata": {
    "papermill": {
     "duration": 0.085412,
     "end_time": "2022-05-23T23:52:20.593822",
     "exception": false,
     "start_time": "2022-05-23T23:52:20.508410",
     "status": "completed"
    },
    "tags": []
   },
   "source": [
    "When I submitted this, I got a score of 0.765, which isn't as good as our linear models or most of our neural nets, but it's pretty close to those results.\n",
    "\n",
    "Hopefully you can now see why we didn't really need to create dummy variables, but instead just converted the labels into numbers using some (potentially arbitary) ordering of categories. For instance, here's how the first few items of `Embarked` are labeled:"
   ]
  },
  {
   "cell_type": "code",
   "execution_count": 37,
   "id": "44582a9f",
   "metadata": {
    "execution": {
     "iopub.execute_input": "2022-05-23T23:52:20.770788Z",
     "iopub.status.busy": "2022-05-23T23:52:20.770281Z",
     "iopub.status.idle": "2022-05-23T23:52:20.778767Z",
     "shell.execute_reply": "2022-05-23T23:52:20.777390Z"
    },
    "papermill": {
     "duration": 0.102015,
     "end_time": "2022-05-23T23:52:20.781428",
     "exception": false,
     "start_time": "2022-05-23T23:52:20.679413",
     "status": "completed"
    },
    "tags": []
   },
   "outputs": [
    {
     "data": {
      "text/plain": [
       "0    S\n",
       "1    C\n",
       "2    S\n",
       "3    S\n",
       "4    S\n",
       "Name: Embarked, dtype: category\n",
       "Categories (3, object): ['C', 'Q', 'S']"
      ]
     },
     "execution_count": 37,
     "metadata": {},
     "output_type": "execute_result"
    }
   ],
   "source": [
    "df.Embarked.head()"
   ]
  },
  {
   "cell_type": "markdown",
   "id": "dac18715",
   "metadata": {
    "papermill": {
     "duration": 0.087676,
     "end_time": "2022-05-23T23:52:20.957609",
     "exception": false,
     "start_time": "2022-05-23T23:52:20.869933",
     "status": "completed"
    },
    "tags": []
   },
   "source": [
    "...resulting in these integer codes:"
   ]
  },
  {
   "cell_type": "code",
   "execution_count": 38,
   "id": "70dcfd2b",
   "metadata": {
    "execution": {
     "iopub.execute_input": "2022-05-23T23:52:21.134608Z",
     "iopub.status.busy": "2022-05-23T23:52:21.133972Z",
     "iopub.status.idle": "2022-05-23T23:52:21.141145Z",
     "shell.execute_reply": "2022-05-23T23:52:21.140254Z"
    },
    "papermill": {
     "duration": 0.09824,
     "end_time": "2022-05-23T23:52:21.143476",
     "exception": false,
     "start_time": "2022-05-23T23:52:21.045236",
     "status": "completed"
    },
    "tags": []
   },
   "outputs": [
    {
     "data": {
      "text/plain": [
       "0    2\n",
       "1    0\n",
       "2    2\n",
       "3    2\n",
       "4    2\n",
       "dtype: int8"
      ]
     },
     "execution_count": 38,
     "metadata": {},
     "output_type": "execute_result"
    }
   ],
   "source": [
    "df.Embarked.cat.codes.head()"
   ]
  },
  {
   "cell_type": "markdown",
   "id": "3daae03b",
   "metadata": {
    "papermill": {
     "duration": 0.08905,
     "end_time": "2022-05-23T23:52:21.320942",
     "exception": false,
     "start_time": "2022-05-23T23:52:21.231892",
     "status": "completed"
    },
    "tags": []
   },
   "source": [
    "So let's say we wanted to split into \"C\" in one group, vs \"Q\" or \"S\" in the other group. Then we just have to split on codes `<=0` (since `C` is mapped to category `0`). Note that if we wanted to split into \"Q\" in one group, we'd need to use two binary splits, first to separate \"C\" from \"Q\" and \"S\", and then a second split to separate \"Q\" from \"S\". For this reason, sometimes it can still be helpful to use dummy variables for categorical variables with few levels (like this one).\n",
    "\n",
    "In practice, I often use dummy variables for <4 levels, and numeric codes for >=4 levels."
   ]
  },
  {
   "cell_type": "markdown",
   "id": "2b45887e",
   "metadata": {
    "papermill": {
     "duration": 0.086779,
     "end_time": "2022-05-23T23:52:21.494320",
     "exception": false,
     "start_time": "2022-05-23T23:52:21.407541",
     "status": "completed"
    },
    "tags": []
   },
   "source": [
    "## The random forest"
   ]
  },
  {
   "cell_type": "markdown",
   "id": "1976d0fb",
   "metadata": {
    "papermill": {
     "duration": 0.086362,
     "end_time": "2022-05-23T23:52:21.667495",
     "exception": false,
     "start_time": "2022-05-23T23:52:21.581133",
     "status": "completed"
    },
    "tags": []
   },
   "source": [
    "We can't make the decision tree much bigger than the example above, since some leaf nodes already have only 50 rows in them. That's not a lot of data to make a prediction.\n",
    "\n",
    "So how could we use bigger trees? One big insight came from Leo Breiman: what if we create lots of bigger trees, and take the average of their predictions? Taking the average prediction of a bunch of models in this way is known as [bagging](https://link.springer.com/article/10.1007/BF00058655).\n",
    "\n",
    "The idea is that we want each model's predictions in the averaged ensemble to be uncorrelated with each other model. That way, if we average the predictions, the average will be equal to the true target value -- that's because the average of lots of uncorrelated random errors is zero. That's quite an amazing insight!\n",
    "\n",
    "One way we can create a bunch of uncorrelated models is to train each of them on a different random subset of the data. Here's how we can create a tree on a random subset of the data:"
   ]
  },
  {
   "cell_type": "code",
   "execution_count": 96,
   "id": "08aa92ef",
   "metadata": {
    "execution": {
     "iopub.execute_input": "2022-05-23T23:52:21.850413Z",
     "iopub.status.busy": "2022-05-23T23:52:21.849900Z",
     "iopub.status.idle": "2022-05-23T23:52:21.854882Z",
     "shell.execute_reply": "2022-05-23T23:52:21.854244Z"
    },
    "papermill": {
     "duration": 0.096075,
     "end_time": "2022-05-23T23:52:21.856770",
     "exception": false,
     "start_time": "2022-05-23T23:52:21.760695",
     "status": "completed"
    },
    "tags": []
   },
   "outputs": [],
   "source": [
    "def get_tree(prop=0.75):\n",
    "    n = len(trn_y)\n",
    "    idxs = random.choice(n, int(n*prop))\n",
    "    return DecisionTreeClassifier(min_samples_leaf=5).fit(trn_xs.iloc[idxs], trn_y.iloc[idxs])"
   ]
  },
  {
   "cell_type": "markdown",
   "id": "2325174f",
   "metadata": {
    "papermill": {
     "duration": 0.087327,
     "end_time": "2022-05-23T23:52:22.032957",
     "exception": false,
     "start_time": "2022-05-23T23:52:21.945630",
     "status": "completed"
    },
    "tags": []
   },
   "source": [
    "Now we can create as many trees as we want:"
   ]
  },
  {
   "cell_type": "code",
   "execution_count": 97,
   "id": "0fcc811f",
   "metadata": {
    "execution": {
     "iopub.execute_input": "2022-05-23T23:52:22.211835Z",
     "iopub.status.busy": "2022-05-23T23:52:22.211276Z",
     "iopub.status.idle": "2022-05-23T23:52:22.483121Z",
     "shell.execute_reply": "2022-05-23T23:52:22.482418Z"
    },
    "papermill": {
     "duration": 0.364166,
     "end_time": "2022-05-23T23:52:22.485456",
     "exception": false,
     "start_time": "2022-05-23T23:52:22.121290",
     "status": "completed"
    },
    "tags": []
   },
   "outputs": [],
   "source": [
    "trees = [get_tree() for t in range(100)]"
   ]
  },
  {
   "cell_type": "markdown",
   "id": "4171fcfb",
   "metadata": {
    "papermill": {
     "duration": 0.086759,
     "end_time": "2022-05-23T23:52:22.659496",
     "exception": false,
     "start_time": "2022-05-23T23:52:22.572737",
     "status": "completed"
    },
    "tags": []
   },
   "source": [
    "Our prediction will be the average of these trees' predictions:"
   ]
  },
  {
   "cell_type": "code",
   "execution_count": 98,
   "id": "69a26910",
   "metadata": {
    "execution": {
     "iopub.execute_input": "2022-05-23T23:52:22.835922Z",
     "iopub.status.busy": "2022-05-23T23:52:22.835355Z",
     "iopub.status.idle": "2022-05-23T23:52:22.976514Z",
     "shell.execute_reply": "2022-05-23T23:52:22.975799Z"
    },
    "papermill": {
     "duration": 0.231614,
     "end_time": "2022-05-23T23:52:22.978449",
     "exception": false,
     "start_time": "2022-05-23T23:52:22.746835",
     "status": "completed"
    },
    "tags": []
   },
   "outputs": [
    {
     "data": {
      "text/plain": [
       "0.22116591928251125"
      ]
     },
     "execution_count": 98,
     "metadata": {},
     "output_type": "execute_result"
    }
   ],
   "source": [
    "all_probs = [t.predict(val_xs) for t in trees]\n",
    "avg_probs = np.stack(all_probs).mean(0)\n",
    "\n",
    "mean_absolute_error(val_y, avg_probs)"
   ]
  },
  {
   "cell_type": "markdown",
   "id": "2ab6c8b4",
   "metadata": {
    "papermill": {
     "duration": 0.086497,
     "end_time": "2022-05-23T23:52:23.151915",
     "exception": false,
     "start_time": "2022-05-23T23:52:23.065418",
     "status": "completed"
    },
    "tags": []
   },
   "source": [
    "This is nearly identical to what `sklearn`'s `RandomForestClassifier` does. The main extra piece in a \"real\" random forest is that as well as choosing a random sample of data for each tree, it also picks a random subset of columns for each split. Here's how we repeat the above process with a random forest:"
   ]
  },
  {
   "cell_type": "code",
   "execution_count": 42,
   "id": "3ec0ada5",
   "metadata": {
    "execution": {
     "iopub.execute_input": "2022-05-23T23:52:23.328862Z",
     "iopub.status.busy": "2022-05-23T23:52:23.328403Z",
     "iopub.status.idle": "2022-05-23T23:52:23.622038Z",
     "shell.execute_reply": "2022-05-23T23:52:23.620968Z"
    },
    "papermill": {
     "duration": 0.385511,
     "end_time": "2022-05-23T23:52:23.624308",
     "exception": false,
     "start_time": "2022-05-23T23:52:23.238797",
     "status": "completed"
    },
    "tags": []
   },
   "outputs": [
    {
     "data": {
      "text/plain": [
       "0.18834080717488788"
      ]
     },
     "execution_count": 42,
     "metadata": {},
     "output_type": "execute_result"
    }
   ],
   "source": [
    "from sklearn.ensemble import RandomForestClassifier\n",
    "\n",
    "rf = RandomForestClassifier(100, min_samples_leaf=5)\n",
    "rf.fit(trn_xs, trn_y);\n",
    "mean_absolute_error(val_y, rf.predict(val_xs))"
   ]
  },
  {
   "cell_type": "markdown",
   "id": "2495c6d7",
   "metadata": {
    "papermill": {
     "duration": 0.086944,
     "end_time": "2022-05-23T23:52:23.799357",
     "exception": false,
     "start_time": "2022-05-23T23:52:23.712413",
     "status": "completed"
    },
    "tags": []
   },
   "source": [
    "We can submit that to Kaggle too:"
   ]
  },
  {
   "cell_type": "code",
   "execution_count": 43,
   "id": "83c6187f",
   "metadata": {
    "execution": {
     "iopub.execute_input": "2022-05-23T23:52:23.979091Z",
     "iopub.status.busy": "2022-05-23T23:52:23.978811Z",
     "iopub.status.idle": "2022-05-23T23:52:24.005874Z",
     "shell.execute_reply": "2022-05-23T23:52:24.005221Z"
    },
    "papermill": {
     "duration": 0.120066,
     "end_time": "2022-05-23T23:52:24.008236",
     "exception": false,
     "start_time": "2022-05-23T23:52:23.888170",
     "status": "completed"
    },
    "tags": []
   },
   "outputs": [],
   "source": [
    "subm(rf.predict(tst_xs), 'rf')"
   ]
  },
  {
   "cell_type": "markdown",
   "id": "1afe6ee9",
   "metadata": {
    "papermill": {
     "duration": 0.086793,
     "end_time": "2022-05-23T23:52:24.182155",
     "exception": false,
     "start_time": "2022-05-23T23:52:24.095362",
     "status": "completed"
    },
    "tags": []
   },
   "source": [
    "I found that gave nearly an identical result as our single tree (which, in turn, was slightly lower than our linear and neural net models in the previous notebook)."
   ]
  },
  {
   "cell_type": "markdown",
   "id": "86e64d72",
   "metadata": {
    "papermill": {
     "duration": 0.087065,
     "end_time": "2022-05-23T23:52:24.357493",
     "exception": false,
     "start_time": "2022-05-23T23:52:24.270428",
     "status": "completed"
    },
    "tags": []
   },
   "source": [
    "One particularly nice feature of random forests is they can tell us which independent variables were the most important in the model, using `feature_importances_`:"
   ]
  },
  {
   "cell_type": "code",
   "execution_count": 99,
   "id": "3af99972",
   "metadata": {
    "execution": {
     "iopub.execute_input": "2022-05-23T23:52:24.533906Z",
     "iopub.status.busy": "2022-05-23T23:52:24.533390Z",
     "iopub.status.idle": "2022-05-23T23:52:24.766416Z",
     "shell.execute_reply": "2022-05-23T23:52:24.765411Z"
    },
    "papermill": {
     "duration": 0.324146,
     "end_time": "2022-05-23T23:52:24.768794",
     "exception": false,
     "start_time": "2022-05-23T23:52:24.444648",
     "status": "completed"
    },
    "tags": []
   },
   "outputs": [
    {
     "data": {
      "image/png": "[encoded data removed]",
      "text/plain": [
       "<Figure size 640x480 with 1 Axes>"
      ]
     },
     "metadata": {},
     "output_type": "display_data"
    }
   ],
   "source": [
    "pd.DataFrame(dict(cols=trn_xs.columns, imp=m.feature_importances_)).plot('cols', 'imp', 'barh');"
   ]
  },
  {
   "cell_type": "markdown",
   "id": "288344e4",
   "metadata": {
    "papermill": {
     "duration": 0.088243,
     "end_time": "2022-05-23T23:52:24.947669",
     "exception": false,
     "start_time": "2022-05-23T23:52:24.859426",
     "status": "completed"
    },
    "tags": []
   },
   "source": [
    "We can see that `Sex` is by far the most important predictor, with `Pclass` a distant second, and `LogFare` and `Age` behind that. In datasets with many columns, I generally recommend creating a feature importance plot as soon as possible, in order to find which columns are worth studying more closely. (Note also that we didn't really need to take the `log()` of `Fare`, since random forests only care about order, and `log()` doesn't change the order -- we only did it to make our graphs earlier easier to read.)\n",
    "\n",
    "For details about deriving and understanding feature importances, and the many other important diagnostic tools provided by random forests, take a look at [chapter 8](https://github.com/fastai/fastbook/blob/master/08_collab.ipynb) of [our book](https://www.amazon.com/Deep-Learning-Coders-fastai-PyTorch/dp/1492045527)."
   ]
  },
  {
   "cell_type": "markdown",
   "id": "2721efdd",
   "metadata": {
    "papermill": {
     "duration": 0.089775,
     "end_time": "2022-05-23T23:52:25.126465",
     "exception": false,
     "start_time": "2022-05-23T23:52:25.036690",
     "status": "completed"
    },
    "tags": []
   },
   "source": [
    "## Conclusion"
   ]
  },
  {
   "cell_type": "markdown",
   "id": "3c6d7087",
   "metadata": {
    "papermill": {
     "duration": 0.090308,
     "end_time": "2022-05-23T23:52:25.305738",
     "exception": false,
     "start_time": "2022-05-23T23:52:25.215430",
     "status": "completed"
    },
    "tags": []
   },
   "source": [
    "So what can we take away from all this?\n",
    "\n",
    "I think the first thing I'd note from this is that, clearly, more complex models aren't always better. Our \"OneR\" model, consisting of a single binary split, was nearly as good as our more complex models. Perhaps in practice a simple model like this might be much easier to use, and could be worth considering. Our random forest wasn't an improvement on the single decision tree at all.\n",
    "\n",
    "So we should always be careful to benchmark simple models, as see if they're good enough for our needs. In practice, you will often find that simple models will have trouble providing adequate accuracy for more complex tasks, such as recommendation systems, NLP, computer vision, or multivariate time series. But there's no need to guess -- it's so easy to try a few different models, there's no reason not to give the simpler ones a go too!\n",
    "\n",
    "Another thing I think we can take away is that random forests aren't actually that complicated at all. We were able to implement the key features of them in a notebook quite quickly. And they aren't sensitive to issues like normalization, interactions, or non-linear transformations, which make them extremely easy to work with, and hard to mess up!"
   ]
  }
 ],
 "metadata": {
  "kernelspec": {
   "display_name": "fastai",
   "language": "python",
   "name": "python3"
  },
  "language_info": {
   "codemirror_mode": {
    "name": "ipython",
    "version": 3
   },
   "file_extension": ".py",
   "mimetype": "text/x-python",
   "name": "python",
   "nbconvert_exporter": "python",
   "pygments_lexer": "ipython3",
   "version": "3.12.9"
  },
  "papermill": {
   "default_parameters": {},
   "duration": 33.243357,
   "end_time": "2022-05-23T23:52:26.679734",
   "environment_variables": {},
   "exception": null,
   "input_path": "__notebook__.ipynb",
   "output_path": "__notebook__.ipynb",
   "parameters": {},
   "start_time": "2022-05-23T23:51:53.436377",
   "version": "2.3.4"
  },
  "widgets": {
   "application/vnd.jupyter.widget-state+json": {
    "state": {
     "0b8cc982889f45fdb1033ccafe122f0a": {
      "model_module": "@jupyter-widgets/controls",
      "model_module_version": "1.5.0",
      "model_name": "FloatSliderModel",
      "state": {
       "_dom_classes": [],
       "_model_module": "@jupyter-widgets/controls",
       "_model_module_version": "1.5.0",
       "_model_name": "FloatSliderModel",
       "_view_count": null,
       "_view_module": "@jupyter-widgets/controls",
       "_view_module_version": "1.5.0",
       "_view_name": "FloatSliderView",
       "continuous_update": true,
       "description": "split",
       "description_tooltip": null,
       "disabled": false,
       "layout": "IPY_MODEL_65f92e60825b419290deba2c44139999",
       "max": 46.5,
       "min": -15.5,
       "orientation": "horizontal",
       "readout": true,
       "readout_format": ".2f",
       "step": 0.1,
       "style": "IPY_MODEL_b13d39f611c4484abb5554ef7c63eb2b",
       "value": 15.5
      }
     },
     "23b034cbd54b44e79b3a6145ba2958bd": {
      "model_module": "@jupyter-widgets/base",
      "model_module_version": "1.2.0",
      "model_name": "LayoutModel",
      "state": {
       "_model_module": "@jupyter-widgets/base",
       "_model_module_version": "1.2.0",
       "_model_name": "LayoutModel",
       "_view_count": null,
       "_view_module": "@jupyter-widgets/base",
       "_view_module_version": "1.2.0",
       "_view_name": "LayoutView",
       "align_content": null,
       "align_items": null,
       "align_self": null,
       "border": null,
       "bottom": null,
       "display": null,
       "flex": null,
       "flex_flow": null,
       "grid_area": null,
       "grid_auto_columns": null,
       "grid_auto_flow": null,
       "grid_auto_rows": null,
       "grid_column": null,
       "grid_gap": null,
       "grid_row": null,
       "grid_template_areas": null,
       "grid_template_columns": null,
       "grid_template_rows": null,
       "height": null,
       "justify_content": null,
       "justify_items": null,
       "left": null,
       "margin": null,
       "max_height": null,
       "max_width": null,
       "min_height": null,
       "min_width": null,
       "object_fit": null,
       "object_position": null,
       "order": null,
       "overflow": null,
       "overflow_x": null,
       "overflow_y": null,
       "padding": null,
       "right": null,
       "top": null,
       "visibility": null,
       "width": null
      }
     },
     "31db31dc75ee4255bc151e13488a9742": {
      "model_module": "@jupyter-widgets/base",
      "model_module_version": "1.2.0",
      "model_name": "LayoutModel",
      "state": {
       "_model_module": "@jupyter-widgets/base",
       "_model_module_version": "1.2.0",
       "_model_name": "LayoutModel",
       "_view_count": null,
       "_view_module": "@jupyter-widgets/base",
       "_view_module_version": "1.2.0",
       "_view_name": "LayoutView",
       "align_content": null,
       "align_items": null,
       "align_self": null,
       "border": null,
       "bottom": null,
       "display": null,
       "flex": null,
       "flex_flow": null,
       "grid_area": null,
       "grid_auto_columns": null,
       "grid_auto_flow": null,
       "grid_auto_rows": null,
       "grid_column": null,
       "grid_gap": null,
       "grid_row": null,
       "grid_template_areas": null,
       "grid_template_columns": null,
       "grid_template_rows": null,
       "height": null,
       "justify_content": null,
       "justify_items": null,
       "left": null,
       "margin": null,
       "max_height": null,
       "max_width": null,
       "min_height": null,
       "min_width": null,
       "object_fit": null,
       "object_position": null,
       "order": null,
       "overflow": null,
       "overflow_x": null,
       "overflow_y": null,
       "padding": null,
       "right": null,
       "top": null,
       "visibility": null,
       "width": null
      }
     },
     "3531f9ef201a4046ad01de663d88b766": {
      "model_module": "@jupyter-widgets/controls",
      "model_module_version": "1.5.0",
      "model_name": "IntSliderModel",
      "state": {
       "_dom_classes": [],
       "_model_module": "@jupyter-widgets/controls",
       "_model_module_version": "1.5.0",
       "_model_name": "IntSliderModel",
       "_view_count": null,
       "_view_module": "@jupyter-widgets/controls",
       "_view_module_version": "1.5.0",
       "_view_name": "IntSliderView",
       "continuous_update": true,
       "description": "split",
       "description_tooltip": null,
       "disabled": false,
       "layout": "IPY_MODEL_31db31dc75ee4255bc151e13488a9742",
       "max": 6,
       "min": -2,
       "orientation": "horizontal",
       "readout": true,
       "readout_format": "d",
       "step": 1,
       "style": "IPY_MODEL_ef14a963d4464fcca9bd5f220e3cc6e8",
       "value": 2
      }
     },
     "3a8c1e7fe19b4897afbf7a8afdc727e7": {
      "model_module": "@jupyter-widgets/controls",
      "model_module_version": "1.5.0",
      "model_name": "VBoxModel",
      "state": {
       "_dom_classes": [
        "widget-interact"
       ],
       "_model_module": "@jupyter-widgets/controls",
       "_model_module_version": "1.5.0",
       "_model_name": "VBoxModel",
       "_view_count": null,
       "_view_module": "@jupyter-widgets/controls",
       "_view_module_version": "1.5.0",
       "_view_name": "VBoxView",
       "box_style": "",
       "children": [
        "IPY_MODEL_ae6af183567d4b24b08275d9c029a4b4",
        "IPY_MODEL_3531f9ef201a4046ad01de663d88b766",
        "IPY_MODEL_400c599e06fb4b56b19bf0feb4b6fd9a"
       ],
       "layout": "IPY_MODEL_d59abcbb498440be9a46da1e06af0cad"
      }
     },
     "3c94e92aa5a1464b97e34c6a67ff58e0": {
      "model_module": "@jupyter-widgets/controls",
      "model_module_version": "1.5.0",
      "model_name": "DescriptionStyleModel",
      "state": {
       "_model_module": "@jupyter-widgets/controls",
       "_model_module_version": "1.5.0",
       "_model_name": "DescriptionStyleModel",
       "_view_count": null,
       "_view_module": "@jupyter-widgets/base",
       "_view_module_version": "1.2.0",
       "_view_name": "StyleView",
       "description_width": ""
      }
     },
     "400c599e06fb4b56b19bf0feb4b6fd9a": {
      "model_module": "@jupyter-widgets/output",
      "model_module_version": "1.0.0",
      "model_name": "OutputModel",
      "state": {
       "_dom_classes": [],
       "_model_module": "@jupyter-widgets/output",
       "_model_module_version": "1.0.0",
       "_model_name": "OutputModel",
       "_view_count": null,
       "_view_module": "@jupyter-widgets/output",
       "_view_module_version": "1.0.0",
       "_view_name": "OutputView",
       "layout": "IPY_MODEL_5becffbcacf0414d916acfd1cb12dbfe",
       "msg_id": "",
       "outputs": [
        {
         "data": {
          "text/plain": "0.4854373192013831"
         },
         "metadata": {},
         "output_type": "display_data"
        }
       ]
      }
     },
     "5becffbcacf0414d916acfd1cb12dbfe": {
      "model_module": "@jupyter-widgets/base",
      "model_module_version": "1.2.0",
      "model_name": "LayoutModel",
      "state": {
       "_model_module": "@jupyter-widgets/base",
       "_model_module_version": "1.2.0",
       "_model_name": "LayoutModel",
       "_view_count": null,
       "_view_module": "@jupyter-widgets/base",
       "_view_module_version": "1.2.0",
       "_view_name": "LayoutView",
       "align_content": null,
       "align_items": null,
       "align_self": null,
       "border": null,
       "bottom": null,
       "display": null,
       "flex": null,
       "flex_flow": null,
       "grid_area": null,
       "grid_auto_columns": null,
       "grid_auto_flow": null,
       "grid_auto_rows": null,
       "grid_column": null,
       "grid_gap": null,
       "grid_row": null,
       "grid_template_areas": null,
       "grid_template_columns": null,
       "grid_template_rows": null,
       "height": null,
       "justify_content": null,
       "justify_items": null,
       "left": null,
       "margin": null,
       "max_height": null,
       "max_width": null,
       "min_height": null,
       "min_width": null,
       "object_fit": null,
       "object_position": null,
       "order": null,
       "overflow": null,
       "overflow_x": null,
       "overflow_y": null,
       "padding": null,
       "right": null,
       "top": null,
       "visibility": null,
       "width": null
      }
     },
     "65f92e60825b419290deba2c44139999": {
      "model_module": "@jupyter-widgets/base",
      "model_module_version": "1.2.0",
      "model_name": "LayoutModel",
      "state": {
       "_model_module": "@jupyter-widgets/base",
       "_model_module_version": "1.2.0",
       "_model_name": "LayoutModel",
       "_view_count": null,
       "_view_module": "@jupyter-widgets/base",
       "_view_module_version": "1.2.0",
       "_view_name": "LayoutView",
       "align_content": null,
       "align_items": null,
       "align_self": null,
       "border": null,
       "bottom": null,
       "display": null,
       "flex": null,
       "flex_flow": null,
       "grid_area": null,
       "grid_auto_columns": null,
       "grid_auto_flow": null,
       "grid_auto_rows": null,
       "grid_column": null,
       "grid_gap": null,
       "grid_row": null,
       "grid_template_areas": null,
       "grid_template_columns": null,
       "grid_template_rows": null,
       "height": null,
       "justify_content": null,
       "justify_items": null,
       "left": null,
       "margin": null,
       "max_height": null,
       "max_width": null,
       "min_height": null,
       "min_width": null,
       "object_fit": null,
       "object_position": null,
       "order": null,
       "overflow": null,
       "overflow_x": null,
       "overflow_y": null,
       "padding": null,
       "right": null,
       "top": null,
       "visibility": null,
       "width": null
      }
     },
     "8774162a3a05417793bd6858db7a9cf0": {
      "model_module": "@jupyter-widgets/base",
      "model_module_version": "1.2.0",
      "model_name": "LayoutModel",
      "state": {
       "_model_module": "@jupyter-widgets/base",
       "_model_module_version": "1.2.0",
       "_model_name": "LayoutModel",
       "_view_count": null,
       "_view_module": "@jupyter-widgets/base",
       "_view_module_version": "1.2.0",
       "_view_name": "LayoutView",
       "align_content": null,
       "align_items": null,
       "align_self": null,
       "border": null,
       "bottom": null,
       "display": null,
       "flex": null,
       "flex_flow": null,
       "grid_area": null,
       "grid_auto_columns": null,
       "grid_auto_flow": null,
       "grid_auto_rows": null,
       "grid_column": null,
       "grid_gap": null,
       "grid_row": null,
       "grid_template_areas": null,
       "grid_template_columns": null,
       "grid_template_rows": null,
       "height": null,
       "justify_content": null,
       "justify_items": null,
       "left": null,
       "margin": null,
       "max_height": null,
       "max_width": null,
       "min_height": null,
       "min_width": null,
       "object_fit": null,
       "object_position": null,
       "order": null,
       "overflow": null,
       "overflow_x": null,
       "overflow_y": null,
       "padding": null,
       "right": null,
       "top": null,
       "visibility": null,
       "width": null
      }
     },
     "a9b3e19b0bb44c8aa1ae814e10407426": {
      "model_module": "@jupyter-widgets/controls",
      "model_module_version": "1.5.0",
      "model_name": "VBoxModel",
      "state": {
       "_dom_classes": [
        "widget-interact"
       ],
       "_model_module": "@jupyter-widgets/controls",
       "_model_module_version": "1.5.0",
       "_model_name": "VBoxModel",
       "_view_count": null,
       "_view_module": "@jupyter-widgets/controls",
       "_view_module_version": "1.5.0",
       "_view_name": "VBoxView",
       "box_style": "",
       "children": [
        "IPY_MODEL_b8a234465ac142698f56edd47c27194a",
        "IPY_MODEL_0b8cc982889f45fdb1033ccafe122f0a",
        "IPY_MODEL_d0a0589701364ab99133b75660ecac38"
       ],
       "layout": "IPY_MODEL_8774162a3a05417793bd6858db7a9cf0"
      }
     },
     "ae6af183567d4b24b08275d9c029a4b4": {
      "model_module": "@jupyter-widgets/controls",
      "model_module_version": "1.5.0",
      "model_name": "DropdownModel",
      "state": {
       "_dom_classes": [],
       "_model_module": "@jupyter-widgets/controls",
       "_model_module_version": "1.5.0",
       "_model_name": "DropdownModel",
       "_options_labels": [
        "Sex",
        "Embarked"
       ],
       "_view_count": null,
       "_view_module": "@jupyter-widgets/controls",
       "_view_module_version": "1.5.0",
       "_view_name": "DropdownView",
       "description": "nm",
       "description_tooltip": null,
       "disabled": false,
       "index": 0,
       "layout": "IPY_MODEL_f344a411d06b4828b293d8d1b95b5d2d",
       "style": "IPY_MODEL_3c94e92aa5a1464b97e34c6a67ff58e0"
      }
     },
     "b13d39f611c4484abb5554ef7c63eb2b": {
      "model_module": "@jupyter-widgets/controls",
      "model_module_version": "1.5.0",
      "model_name": "SliderStyleModel",
      "state": {
       "_model_module": "@jupyter-widgets/controls",
       "_model_module_version": "1.5.0",
       "_model_name": "SliderStyleModel",
       "_view_count": null,
       "_view_module": "@jupyter-widgets/base",
       "_view_module_version": "1.2.0",
       "_view_name": "StyleView",
       "description_width": "",
       "handle_color": null
      }
     },
     "b8a234465ac142698f56edd47c27194a": {
      "model_module": "@jupyter-widgets/controls",
      "model_module_version": "1.5.0",
      "model_name": "DropdownModel",
      "state": {
       "_dom_classes": [],
       "_model_module": "@jupyter-widgets/controls",
       "_model_module_version": "1.5.0",
       "_model_name": "DropdownModel",
       "_options_labels": [
        "Age",
        "SibSp",
        "Parch",
        "LogFare",
        "Pclass"
       ],
       "_view_count": null,
       "_view_module": "@jupyter-widgets/controls",
       "_view_module_version": "1.5.0",
       "_view_name": "DropdownView",
       "description": "nm",
       "description_tooltip": null,
       "disabled": false,
       "index": 0,
       "layout": "IPY_MODEL_f5726258f2ff4c3c977973151f1bc424",
       "style": "IPY_MODEL_ce52044b466649ba9ef4d45558063b6e"
      }
     },
     "ce52044b466649ba9ef4d45558063b6e": {
      "model_module": "@jupyter-widgets/controls",
      "model_module_version": "1.5.0",
      "model_name": "DescriptionStyleModel",
      "state": {
       "_model_module": "@jupyter-widgets/controls",
       "_model_module_version": "1.5.0",
       "_model_name": "DescriptionStyleModel",
       "_view_count": null,
       "_view_module": "@jupyter-widgets/base",
       "_view_module_version": "1.2.0",
       "_view_name": "StyleView",
       "description_width": ""
      }
     },
     "d0a0589701364ab99133b75660ecac38": {
      "model_module": "@jupyter-widgets/output",
      "model_module_version": "1.0.0",
      "model_name": "OutputModel",
      "state": {
       "_dom_classes": [],
       "_model_module": "@jupyter-widgets/output",
       "_model_module_version": "1.0.0",
       "_model_name": "OutputModel",
       "_view_count": null,
       "_view_module": "@jupyter-widgets/output",
       "_view_module_version": "1.0.0",
       "_view_name": "OutputView",
       "layout": "IPY_MODEL_23b034cbd54b44e79b3a6145ba2958bd",
       "msg_id": "",
       "outputs": [
        {
         "data": {
          "text/plain": "0.48105614369455413"
         },
         "metadata": {},
         "output_type": "display_data"
        }
       ]
      }
     },
     "d59abcbb498440be9a46da1e06af0cad": {
      "model_module": "@jupyter-widgets/base",
      "model_module_version": "1.2.0",
      "model_name": "LayoutModel",
      "state": {
       "_model_module": "@jupyter-widgets/base",
       "_model_module_version": "1.2.0",
       "_model_name": "LayoutModel",
       "_view_count": null,
       "_view_module": "@jupyter-widgets/base",
       "_view_module_version": "1.2.0",
       "_view_name": "LayoutView",
       "align_content": null,
       "align_items": null,
       "align_self": null,
       "border": null,
       "bottom": null,
       "display": null,
       "flex": null,
       "flex_flow": null,
       "grid_area": null,
       "grid_auto_columns": null,
       "grid_auto_flow": null,
       "grid_auto_rows": null,
       "grid_column": null,
       "grid_gap": null,
       "grid_row": null,
       "grid_template_areas": null,
       "grid_template_columns": null,
       "grid_template_rows": null,
       "height": null,
       "justify_content": null,
       "justify_items": null,
       "left": null,
       "margin": null,
       "max_height": null,
       "max_width": null,
       "min_height": null,
       "min_width": null,
       "object_fit": null,
       "object_position": null,
       "order": null,
       "overflow": null,
       "overflow_x": null,
       "overflow_y": null,
       "padding": null,
       "right": null,
       "top": null,
       "visibility": null,
       "width": null
      }
     },
     "ef14a963d4464fcca9bd5f220e3cc6e8": {
      "model_module": "@jupyter-widgets/controls",
      "model_module_version": "1.5.0",
      "model_name": "SliderStyleModel",
      "state": {
       "_model_module": "@jupyter-widgets/controls",
       "_model_module_version": "1.5.0",
       "_model_name": "SliderStyleModel",
       "_view_count": null,
       "_view_module": "@jupyter-widgets/base",
       "_view_module_version": "1.2.0",
       "_view_name": "StyleView",
       "description_width": "",
       "handle_color": null
      }
     },
     "f344a411d06b4828b293d8d1b95b5d2d": {
      "model_module": "@jupyter-widgets/base",
      "model_module_version": "1.2.0",
      "model_name": "LayoutModel",
      "state": {
       "_model_module": "@jupyter-widgets/base",
       "_model_module_version": "1.2.0",
       "_model_name": "LayoutModel",
       "_view_count": null,
       "_view_module": "@jupyter-widgets/base",
       "_view_module_version": "1.2.0",
       "_view_name": "LayoutView",
       "align_content": null,
       "align_items": null,
       "align_self": null,
       "border": null,
       "bottom": null,
       "display": null,
       "flex": null,
       "flex_flow": null,
       "grid_area": null,
       "grid_auto_columns": null,
       "grid_auto_flow": null,
       "grid_auto_rows": null,
       "grid_column": null,
       "grid_gap": null,
       "grid_row": null,
       "grid_template_areas": null,
       "grid_template_columns": null,
       "grid_template_rows": null,
       "height": null,
       "justify_content": null,
       "justify_items": null,
       "left": null,
       "margin": null,
       "max_height": null,
       "max_width": null,
       "min_height": null,
       "min_width": null,
       "object_fit": null,
       "object_position": null,
       "order": null,
       "overflow": null,
       "overflow_x": null,
       "overflow_y": null,
       "padding": null,
       "right": null,
       "top": null,
       "visibility": null,
       "width": null
      }
     },
     "f5726258f2ff4c3c977973151f1bc424": {
      "model_module": "@jupyter-widgets/base",
      "model_module_version": "1.2.0",
      "model_name": "LayoutModel",
      "state": {
       "_model_module": "@jupyter-widgets/base",
       "_model_module_version": "1.2.0",
       "_model_name": "LayoutModel",
       "_view_count": null,
       "_view_module": "@jupyter-widgets/base",
       "_view_module_version": "1.2.0",
       "_view_name": "LayoutView",
       "align_content": null,
       "align_items": null,
       "align_self": null,
       "border": null,
       "bottom": null,
       "display": null,
       "flex": null,
       "flex_flow": null,
       "grid_area": null,
       "grid_auto_columns": null,
       "grid_auto_flow": null,
       "grid_auto_rows": null,
       "grid_column": null,
       "grid_gap": null,
       "grid_row": null,
       "grid_template_areas": null,
       "grid_template_columns": null,
       "grid_template_rows": null,
       "height": null,
       "justify_content": null,
       "justify_items": null,
       "left": null,
       "margin": null,
       "max_height": null,
       "max_width": null,
       "min_height": null,
       "min_width": null,
       "object_fit": null,
       "object_position": null,
       "order": null,
       "overflow": null,
       "overflow_x": null,
       "overflow_y": null,
       "padding": null,
       "right": null,
       "top": null,
       "visibility": null,
       "width": null
      }
     }
    },
    "version_major": 2,
    "version_minor": 0
   }
  }
 },
 "nbformat": 4,
 "nbformat_minor": 5
}
